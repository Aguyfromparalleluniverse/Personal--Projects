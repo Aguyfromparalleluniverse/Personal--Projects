{
 "cells": [
  {
   "cell_type": "code",
   "execution_count": 1,
   "id": "72b7968a",
   "metadata": {},
   "outputs": [],
   "source": [
    "import numpy as np\n",
    "import pandas as pd\n",
    "import matplotlib.pyplot as plt\n",
    "import seaborn as sns"
   ]
  },
  {
   "cell_type": "code",
   "execution_count": 2,
   "id": "c15892fe",
   "metadata": {},
   "outputs": [],
   "source": [
    "ub= pd.read_csv(\"Used_Bikes.csv\")"
   ]
  },
  {
   "cell_type": "code",
   "execution_count": 3,
   "id": "9c4cf190",
   "metadata": {},
   "outputs": [
    {
     "data": {
      "text/html": [
       "<div>\n",
       "<style scoped>\n",
       "    .dataframe tbody tr th:only-of-type {\n",
       "        vertical-align: middle;\n",
       "    }\n",
       "\n",
       "    .dataframe tbody tr th {\n",
       "        vertical-align: top;\n",
       "    }\n",
       "\n",
       "    .dataframe thead th {\n",
       "        text-align: right;\n",
       "    }\n",
       "</style>\n",
       "<table border=\"1\" class=\"dataframe\">\n",
       "  <thead>\n",
       "    <tr style=\"text-align: right;\">\n",
       "      <th></th>\n",
       "      <th>bike_name</th>\n",
       "      <th>price</th>\n",
       "      <th>city</th>\n",
       "      <th>kms_driven</th>\n",
       "      <th>owner</th>\n",
       "      <th>age</th>\n",
       "      <th>power</th>\n",
       "      <th>brand</th>\n",
       "    </tr>\n",
       "  </thead>\n",
       "  <tbody>\n",
       "    <tr>\n",
       "      <th>0</th>\n",
       "      <td>TVS Star City Plus Dual Tone 110cc</td>\n",
       "      <td>35000.0</td>\n",
       "      <td>Ahmedabad</td>\n",
       "      <td>17654.0</td>\n",
       "      <td>First Owner</td>\n",
       "      <td>3.0</td>\n",
       "      <td>110.0</td>\n",
       "      <td>TVS</td>\n",
       "    </tr>\n",
       "    <tr>\n",
       "      <th>1</th>\n",
       "      <td>Royal Enfield Classic 350cc</td>\n",
       "      <td>119900.0</td>\n",
       "      <td>Delhi</td>\n",
       "      <td>11000.0</td>\n",
       "      <td>First Owner</td>\n",
       "      <td>4.0</td>\n",
       "      <td>350.0</td>\n",
       "      <td>Royal Enfield</td>\n",
       "    </tr>\n",
       "    <tr>\n",
       "      <th>2</th>\n",
       "      <td>Triumph Daytona 675R</td>\n",
       "      <td>600000.0</td>\n",
       "      <td>Delhi</td>\n",
       "      <td>110.0</td>\n",
       "      <td>First Owner</td>\n",
       "      <td>8.0</td>\n",
       "      <td>675.0</td>\n",
       "      <td>Triumph</td>\n",
       "    </tr>\n",
       "    <tr>\n",
       "      <th>3</th>\n",
       "      <td>TVS Apache RTR 180cc</td>\n",
       "      <td>65000.0</td>\n",
       "      <td>Bangalore</td>\n",
       "      <td>16329.0</td>\n",
       "      <td>First Owner</td>\n",
       "      <td>4.0</td>\n",
       "      <td>180.0</td>\n",
       "      <td>TVS</td>\n",
       "    </tr>\n",
       "    <tr>\n",
       "      <th>4</th>\n",
       "      <td>Yamaha FZ S V 2.0 150cc-Ltd. Edition</td>\n",
       "      <td>80000.0</td>\n",
       "      <td>Bangalore</td>\n",
       "      <td>10000.0</td>\n",
       "      <td>First Owner</td>\n",
       "      <td>3.0</td>\n",
       "      <td>150.0</td>\n",
       "      <td>Yamaha</td>\n",
       "    </tr>\n",
       "  </tbody>\n",
       "</table>\n",
       "</div>"
      ],
      "text/plain": [
       "                              bike_name     price       city  kms_driven  \\\n",
       "0    TVS Star City Plus Dual Tone 110cc   35000.0  Ahmedabad     17654.0   \n",
       "1           Royal Enfield Classic 350cc  119900.0      Delhi     11000.0   \n",
       "2                  Triumph Daytona 675R  600000.0      Delhi       110.0   \n",
       "3                  TVS Apache RTR 180cc   65000.0  Bangalore     16329.0   \n",
       "4  Yamaha FZ S V 2.0 150cc-Ltd. Edition   80000.0  Bangalore     10000.0   \n",
       "\n",
       "         owner  age  power          brand  \n",
       "0  First Owner  3.0  110.0            TVS  \n",
       "1  First Owner  4.0  350.0  Royal Enfield  \n",
       "2  First Owner  8.0  675.0        Triumph  \n",
       "3  First Owner  4.0  180.0            TVS  \n",
       "4  First Owner  3.0  150.0         Yamaha  "
      ]
     },
     "execution_count": 3,
     "metadata": {},
     "output_type": "execute_result"
    }
   ],
   "source": [
    "#displaying the head of the data\n",
    "ub.head()"
   ]
  },
  {
   "cell_type": "code",
   "execution_count": 4,
   "id": "9a077c66",
   "metadata": {},
   "outputs": [
    {
     "data": {
      "text/plain": [
       "0"
      ]
     },
     "execution_count": 4,
     "metadata": {},
     "output_type": "execute_result"
    }
   ],
   "source": [
    "#checking for null values\n",
    "ub.isna().sum().sum()"
   ]
  },
  {
   "cell_type": "code",
   "execution_count": 5,
   "id": "545c3fe1",
   "metadata": {},
   "outputs": [
    {
     "data": {
      "text/plain": [
       "(32648, 8)"
      ]
     },
     "execution_count": 5,
     "metadata": {},
     "output_type": "execute_result"
    }
   ],
   "source": [
    "#shape of the data\n",
    "ub.shape"
   ]
  },
  {
   "cell_type": "code",
   "execution_count": 6,
   "id": "929f4d86",
   "metadata": {},
   "outputs": [
    {
     "data": {
      "text/html": [
       "<div>\n",
       "<style scoped>\n",
       "    .dataframe tbody tr th:only-of-type {\n",
       "        vertical-align: middle;\n",
       "    }\n",
       "\n",
       "    .dataframe tbody tr th {\n",
       "        vertical-align: top;\n",
       "    }\n",
       "\n",
       "    .dataframe thead th {\n",
       "        text-align: right;\n",
       "    }\n",
       "</style>\n",
       "<table border=\"1\" class=\"dataframe\">\n",
       "  <thead>\n",
       "    <tr style=\"text-align: right;\">\n",
       "      <th></th>\n",
       "      <th>price</th>\n",
       "      <th>kms_driven</th>\n",
       "      <th>age</th>\n",
       "      <th>power</th>\n",
       "    </tr>\n",
       "  </thead>\n",
       "  <tbody>\n",
       "    <tr>\n",
       "      <th>count</th>\n",
       "      <td>3.264800e+04</td>\n",
       "      <td>32648.000000</td>\n",
       "      <td>32648.000000</td>\n",
       "      <td>32648.000000</td>\n",
       "    </tr>\n",
       "    <tr>\n",
       "      <th>mean</th>\n",
       "      <td>6.829542e+04</td>\n",
       "      <td>26344.625184</td>\n",
       "      <td>8.048211</td>\n",
       "      <td>213.511302</td>\n",
       "    </tr>\n",
       "    <tr>\n",
       "      <th>std</th>\n",
       "      <td>9.071860e+04</td>\n",
       "      <td>22208.527695</td>\n",
       "      <td>4.031700</td>\n",
       "      <td>134.428868</td>\n",
       "    </tr>\n",
       "    <tr>\n",
       "      <th>min</th>\n",
       "      <td>4.400000e+03</td>\n",
       "      <td>1.000000</td>\n",
       "      <td>1.000000</td>\n",
       "      <td>100.000000</td>\n",
       "    </tr>\n",
       "    <tr>\n",
       "      <th>25%</th>\n",
       "      <td>2.500000e+04</td>\n",
       "      <td>12000.000000</td>\n",
       "      <td>5.000000</td>\n",
       "      <td>150.000000</td>\n",
       "    </tr>\n",
       "    <tr>\n",
       "      <th>50%</th>\n",
       "      <td>4.300000e+04</td>\n",
       "      <td>20373.000000</td>\n",
       "      <td>7.000000</td>\n",
       "      <td>150.000000</td>\n",
       "    </tr>\n",
       "    <tr>\n",
       "      <th>75%</th>\n",
       "      <td>8.000000e+04</td>\n",
       "      <td>35000.000000</td>\n",
       "      <td>10.000000</td>\n",
       "      <td>220.000000</td>\n",
       "    </tr>\n",
       "    <tr>\n",
       "      <th>max</th>\n",
       "      <td>1.900000e+06</td>\n",
       "      <td>750000.000000</td>\n",
       "      <td>63.000000</td>\n",
       "      <td>1800.000000</td>\n",
       "    </tr>\n",
       "  </tbody>\n",
       "</table>\n",
       "</div>"
      ],
      "text/plain": [
       "              price     kms_driven           age         power\n",
       "count  3.264800e+04   32648.000000  32648.000000  32648.000000\n",
       "mean   6.829542e+04   26344.625184      8.048211    213.511302\n",
       "std    9.071860e+04   22208.527695      4.031700    134.428868\n",
       "min    4.400000e+03       1.000000      1.000000    100.000000\n",
       "25%    2.500000e+04   12000.000000      5.000000    150.000000\n",
       "50%    4.300000e+04   20373.000000      7.000000    150.000000\n",
       "75%    8.000000e+04   35000.000000     10.000000    220.000000\n",
       "max    1.900000e+06  750000.000000     63.000000   1800.000000"
      ]
     },
     "execution_count": 6,
     "metadata": {},
     "output_type": "execute_result"
    }
   ],
   "source": [
    "ub.describe()"
   ]
  },
  {
   "cell_type": "code",
   "execution_count": 7,
   "id": "d5d2d0d8",
   "metadata": {},
   "outputs": [
    {
     "data": {
      "text/plain": [
       "Index(['bike_name', 'price', 'city', 'kms_driven', 'owner', 'age', 'power',\n",
       "       'brand'],\n",
       "      dtype='object')"
      ]
     },
     "execution_count": 7,
     "metadata": {},
     "output_type": "execute_result"
    }
   ],
   "source": [
    "ub.keys()"
   ]
  },
  {
   "cell_type": "code",
   "execution_count": 8,
   "id": "f2be2845",
   "metadata": {},
   "outputs": [
    {
     "data": {
      "text/plain": [
       "Bajaj              11213\n",
       "Hero                6368\n",
       "Royal Enfield       4178\n",
       "Yamaha              3916\n",
       "Honda               2108\n",
       "Suzuki              1464\n",
       "TVS                 1247\n",
       "KTM                 1077\n",
       "Harley-Davidson      737\n",
       "Kawasaki              79\n",
       "Hyosung               64\n",
       "Benelli               56\n",
       "Mahindra              55\n",
       "Triumph               26\n",
       "Ducati                22\n",
       "BMW                   16\n",
       "Jawa                  10\n",
       "MV                     4\n",
       "Indian                 3\n",
       "Ideal                  2\n",
       "Rajdoot                1\n",
       "LML                    1\n",
       "Yezdi                  1\n",
       "Name: brand, dtype: int64"
      ]
     },
     "execution_count": 8,
     "metadata": {},
     "output_type": "execute_result"
    }
   ],
   "source": [
    "#total numbber of different manufacturers present in the dataset\n",
    "ub[\"brand\"].value_counts()"
   ]
  },
  {
   "cell_type": "code",
   "execution_count": 9,
   "id": "127fffd9",
   "metadata": {},
   "outputs": [
    {
     "data": {
      "text/plain": [
       "<AxesSubplot:>"
      ]
     },
     "execution_count": 9,
     "metadata": {},
     "output_type": "execute_result"
    },
    {
     "data": {
      "image/png": "[encoded data removed]",
      "text/plain": [
       "<Figure size 432x288 with 1 Axes>"
      ]
     },
     "metadata": {
      "needs_background": "light"
     },
     "output_type": "display_data"
    }
   ],
   "source": [
    "#percentage distibution of different manufacturers in the dataset\n",
    "(ub[\"brand\"].value_counts()).plot.bar()"
   ]
  },
  {
   "cell_type": "code",
   "execution_count": 10,
   "id": "6829c450",
   "metadata": {},
   "outputs": [
    {
     "data": {
      "text/plain": [
       "Bajaj              34.35\n",
       "Hero               19.51\n",
       "Royal Enfield      12.80\n",
       "Yamaha             11.99\n",
       "Honda               6.46\n",
       "Suzuki              4.48\n",
       "TVS                 3.82\n",
       "KTM                 3.30\n",
       "Harley-Davidson     2.26\n",
       "Kawasaki            0.24\n",
       "Hyosung             0.20\n",
       "Benelli             0.17\n",
       "Mahindra            0.17\n",
       "Triumph             0.08\n",
       "Ducati              0.07\n",
       "BMW                 0.05\n",
       "Jawa                0.03\n",
       "MV                  0.01\n",
       "Indian              0.01\n",
       "Ideal               0.01\n",
       "Rajdoot             0.00\n",
       "LML                 0.00\n",
       "Yezdi               0.00\n",
       "Name: brand, dtype: float64"
      ]
     },
     "execution_count": 10,
     "metadata": {},
     "output_type": "execute_result"
    }
   ],
   "source": [
    "#market percentage of each manufacturer in our dataset\n",
    "round(ub[\"brand\"].value_counts()*100/ len(ub),2)"
   ]
  },
  {
   "cell_type": "code",
   "execution_count": 11,
   "id": "843a3ddc",
   "metadata": {},
   "outputs": [
    {
     "data": {
      "text/plain": [
       "Text(0.5, 0, 'Brand names')"
      ]
     },
     "execution_count": 11,
     "metadata": {},
     "output_type": "execute_result"
    },
    {
     "data": {
      "image/png": "[encoded data removed]",
      "text/plain": [
       "<Figure size 504x360 with 1 Axes>"
      ]
     },
     "metadata": {
      "needs_background": "light"
     },
     "output_type": "display_data"
    }
   ],
   "source": [
    "#plotting a bar showing the percentage of each manufacturers market share\n",
    "plt.rcParams[\"figure.figsize\"]= (7,5)\n",
    "round(ub[\"brand\"].value_counts()*100/len(ub),2).plot.bar()\n",
    "plt.ylabel(\"Market percentage of each brand\")\n",
    "plt.xlabel(\"Brand names\")"
   ]
  },
  {
   "cell_type": "code",
   "execution_count": 12,
   "id": "bcb614b3",
   "metadata": {},
   "outputs": [
    {
     "data": {
      "text/html": [
       "<div>\n",
       "<style scoped>\n",
       "    .dataframe tbody tr th:only-of-type {\n",
       "        vertical-align: middle;\n",
       "    }\n",
       "\n",
       "    .dataframe tbody tr th {\n",
       "        vertical-align: top;\n",
       "    }\n",
       "\n",
       "    .dataframe thead th {\n",
       "        text-align: right;\n",
       "    }\n",
       "</style>\n",
       "<table border=\"1\" class=\"dataframe\">\n",
       "  <thead>\n",
       "    <tr style=\"text-align: right;\">\n",
       "      <th></th>\n",
       "      <th>bike_name</th>\n",
       "      <th>price</th>\n",
       "      <th>city</th>\n",
       "      <th>kms_driven</th>\n",
       "      <th>owner</th>\n",
       "      <th>age</th>\n",
       "      <th>power</th>\n",
       "      <th>brand</th>\n",
       "    </tr>\n",
       "  </thead>\n",
       "  <tbody>\n",
       "    <tr>\n",
       "      <th>0</th>\n",
       "      <td>TVS Star City Plus Dual Tone 110cc</td>\n",
       "      <td>35000.0</td>\n",
       "      <td>Ahmedabad</td>\n",
       "      <td>17654.0</td>\n",
       "      <td>First Owner</td>\n",
       "      <td>3.0</td>\n",
       "      <td>110.0</td>\n",
       "      <td>TVS</td>\n",
       "    </tr>\n",
       "    <tr>\n",
       "      <th>1</th>\n",
       "      <td>Royal Enfield Classic 350cc</td>\n",
       "      <td>119900.0</td>\n",
       "      <td>Delhi</td>\n",
       "      <td>11000.0</td>\n",
       "      <td>First Owner</td>\n",
       "      <td>4.0</td>\n",
       "      <td>350.0</td>\n",
       "      <td>Royal Enfield</td>\n",
       "    </tr>\n",
       "    <tr>\n",
       "      <th>2</th>\n",
       "      <td>Triumph Daytona 675R</td>\n",
       "      <td>600000.0</td>\n",
       "      <td>Delhi</td>\n",
       "      <td>110.0</td>\n",
       "      <td>First Owner</td>\n",
       "      <td>8.0</td>\n",
       "      <td>675.0</td>\n",
       "      <td>Triumph</td>\n",
       "    </tr>\n",
       "    <tr>\n",
       "      <th>3</th>\n",
       "      <td>TVS Apache RTR 180cc</td>\n",
       "      <td>65000.0</td>\n",
       "      <td>Bangalore</td>\n",
       "      <td>16329.0</td>\n",
       "      <td>First Owner</td>\n",
       "      <td>4.0</td>\n",
       "      <td>180.0</td>\n",
       "      <td>TVS</td>\n",
       "    </tr>\n",
       "    <tr>\n",
       "      <th>4</th>\n",
       "      <td>Yamaha FZ S V 2.0 150cc-Ltd. Edition</td>\n",
       "      <td>80000.0</td>\n",
       "      <td>Bangalore</td>\n",
       "      <td>10000.0</td>\n",
       "      <td>First Owner</td>\n",
       "      <td>3.0</td>\n",
       "      <td>150.0</td>\n",
       "      <td>Yamaha</td>\n",
       "    </tr>\n",
       "    <tr>\n",
       "      <th>5</th>\n",
       "      <td>Yamaha FZs 150cc</td>\n",
       "      <td>53499.0</td>\n",
       "      <td>Delhi</td>\n",
       "      <td>25000.0</td>\n",
       "      <td>First Owner</td>\n",
       "      <td>6.0</td>\n",
       "      <td>150.0</td>\n",
       "      <td>Yamaha</td>\n",
       "    </tr>\n",
       "    <tr>\n",
       "      <th>6</th>\n",
       "      <td>Honda CB Hornet 160R  ABS DLX</td>\n",
       "      <td>85000.0</td>\n",
       "      <td>Delhi</td>\n",
       "      <td>8200.0</td>\n",
       "      <td>First Owner</td>\n",
       "      <td>3.0</td>\n",
       "      <td>160.0</td>\n",
       "      <td>Honda</td>\n",
       "    </tr>\n",
       "    <tr>\n",
       "      <th>7</th>\n",
       "      <td>Hero Splendor Plus Self Alloy 100cc</td>\n",
       "      <td>45000.0</td>\n",
       "      <td>Delhi</td>\n",
       "      <td>12645.0</td>\n",
       "      <td>First Owner</td>\n",
       "      <td>3.0</td>\n",
       "      <td>100.0</td>\n",
       "      <td>Hero</td>\n",
       "    </tr>\n",
       "    <tr>\n",
       "      <th>8</th>\n",
       "      <td>Royal Enfield Thunderbird X 350cc</td>\n",
       "      <td>145000.0</td>\n",
       "      <td>Bangalore</td>\n",
       "      <td>9190.0</td>\n",
       "      <td>First Owner</td>\n",
       "      <td>3.0</td>\n",
       "      <td>350.0</td>\n",
       "      <td>Royal Enfield</td>\n",
       "    </tr>\n",
       "    <tr>\n",
       "      <th>9</th>\n",
       "      <td>Royal Enfield Classic Desert Storm 500cc</td>\n",
       "      <td>88000.0</td>\n",
       "      <td>Delhi</td>\n",
       "      <td>19000.0</td>\n",
       "      <td>Second Owner</td>\n",
       "      <td>7.0</td>\n",
       "      <td>500.0</td>\n",
       "      <td>Royal Enfield</td>\n",
       "    </tr>\n",
       "  </tbody>\n",
       "</table>\n",
       "</div>"
      ],
      "text/plain": [
       "                                  bike_name     price       city  kms_driven  \\\n",
       "0        TVS Star City Plus Dual Tone 110cc   35000.0  Ahmedabad     17654.0   \n",
       "1               Royal Enfield Classic 350cc  119900.0      Delhi     11000.0   \n",
       "2                      Triumph Daytona 675R  600000.0      Delhi       110.0   \n",
       "3                      TVS Apache RTR 180cc   65000.0  Bangalore     16329.0   \n",
       "4      Yamaha FZ S V 2.0 150cc-Ltd. Edition   80000.0  Bangalore     10000.0   \n",
       "5                          Yamaha FZs 150cc   53499.0      Delhi     25000.0   \n",
       "6             Honda CB Hornet 160R  ABS DLX   85000.0      Delhi      8200.0   \n",
       "7       Hero Splendor Plus Self Alloy 100cc   45000.0      Delhi     12645.0   \n",
       "8         Royal Enfield Thunderbird X 350cc  145000.0  Bangalore      9190.0   \n",
       "9  Royal Enfield Classic Desert Storm 500cc   88000.0      Delhi     19000.0   \n",
       "\n",
       "          owner  age  power          brand  \n",
       "0   First Owner  3.0  110.0            TVS  \n",
       "1   First Owner  4.0  350.0  Royal Enfield  \n",
       "2   First Owner  8.0  675.0        Triumph  \n",
       "3   First Owner  4.0  180.0            TVS  \n",
       "4   First Owner  3.0  150.0         Yamaha  \n",
       "5   First Owner  6.0  150.0         Yamaha  \n",
       "6   First Owner  3.0  160.0          Honda  \n",
       "7   First Owner  3.0  100.0           Hero  \n",
       "8   First Owner  3.0  350.0  Royal Enfield  \n",
       "9  Second Owner  7.0  500.0  Royal Enfield  "
      ]
     },
     "execution_count": 12,
     "metadata": {},
     "output_type": "execute_result"
    }
   ],
   "source": [
    "ub.head(10)"
   ]
  },
  {
   "cell_type": "code",
   "execution_count": 13,
   "id": "22cf8be2",
   "metadata": {},
   "outputs": [
    {
     "data": {
      "text/plain": [
       "Delhi            7318\n",
       "Bangalore        2723\n",
       "Mumbai           2591\n",
       "Hyderabad        2160\n",
       "Pune             1724\n",
       "                 ... \n",
       "Surendranagar       1\n",
       "Khandela            1\n",
       "Mohammadabad        1\n",
       "Shimla              1\n",
       "Sidhi               1\n",
       "Name: city, Length: 443, dtype: int64"
      ]
     },
     "execution_count": 13,
     "metadata": {},
     "output_type": "execute_result"
    }
   ],
   "source": [
    "ub[\"city\"].value_counts()"
   ]
  },
  {
   "cell_type": "code",
   "execution_count": 14,
   "id": "a2519965",
   "metadata": {},
   "outputs": [],
   "source": [
    "higher_power_bikes=ub[ub[\"power\"]>=400]"
   ]
  },
  {
   "cell_type": "code",
   "execution_count": 15,
   "id": "9fd1bd06",
   "metadata": {},
   "outputs": [
    {
     "data": {
      "text/html": [
       "<div>\n",
       "<style scoped>\n",
       "    .dataframe tbody tr th:only-of-type {\n",
       "        vertical-align: middle;\n",
       "    }\n",
       "\n",
       "    .dataframe tbody tr th {\n",
       "        vertical-align: top;\n",
       "    }\n",
       "\n",
       "    .dataframe thead th {\n",
       "        text-align: right;\n",
       "    }\n",
       "</style>\n",
       "<table border=\"1\" class=\"dataframe\">\n",
       "  <thead>\n",
       "    <tr style=\"text-align: right;\">\n",
       "      <th></th>\n",
       "      <th>bike_name</th>\n",
       "      <th>price</th>\n",
       "      <th>city</th>\n",
       "      <th>kms_driven</th>\n",
       "      <th>owner</th>\n",
       "      <th>age</th>\n",
       "      <th>power</th>\n",
       "      <th>brand</th>\n",
       "    </tr>\n",
       "  </thead>\n",
       "  <tbody>\n",
       "    <tr>\n",
       "      <th>2</th>\n",
       "      <td>Triumph Daytona 675R</td>\n",
       "      <td>600000.0</td>\n",
       "      <td>Delhi</td>\n",
       "      <td>110.0</td>\n",
       "      <td>First Owner</td>\n",
       "      <td>8.0</td>\n",
       "      <td>675.0</td>\n",
       "      <td>Triumph</td>\n",
       "    </tr>\n",
       "    <tr>\n",
       "      <th>9</th>\n",
       "      <td>Royal Enfield Classic Desert Storm 500cc</td>\n",
       "      <td>88000.0</td>\n",
       "      <td>Delhi</td>\n",
       "      <td>19000.0</td>\n",
       "      <td>Second Owner</td>\n",
       "      <td>7.0</td>\n",
       "      <td>500.0</td>\n",
       "      <td>Royal Enfield</td>\n",
       "    </tr>\n",
       "    <tr>\n",
       "      <th>23</th>\n",
       "      <td>Royal Enfield Classic Chrome 500cc</td>\n",
       "      <td>121700.0</td>\n",
       "      <td>Kalyan</td>\n",
       "      <td>24520.0</td>\n",
       "      <td>First Owner</td>\n",
       "      <td>5.0</td>\n",
       "      <td>500.0</td>\n",
       "      <td>Royal Enfield</td>\n",
       "    </tr>\n",
       "    <tr>\n",
       "      <th>38</th>\n",
       "      <td>Royal Enfield Thunderbird X 500cc</td>\n",
       "      <td>190500.0</td>\n",
       "      <td>Samastipur</td>\n",
       "      <td>4550.0</td>\n",
       "      <td>First Owner</td>\n",
       "      <td>2.0</td>\n",
       "      <td>500.0</td>\n",
       "      <td>Royal Enfield</td>\n",
       "    </tr>\n",
       "    <tr>\n",
       "      <th>55</th>\n",
       "      <td>Benelli TNT 600i ABS</td>\n",
       "      <td>475000.0</td>\n",
       "      <td>Mumbai</td>\n",
       "      <td>11500.0</td>\n",
       "      <td>Second Owner</td>\n",
       "      <td>3.0</td>\n",
       "      <td>600.0</td>\n",
       "      <td>Benelli</td>\n",
       "    </tr>\n",
       "  </tbody>\n",
       "</table>\n",
       "</div>"
      ],
      "text/plain": [
       "                                   bike_name     price        city  \\\n",
       "2                       Triumph Daytona 675R  600000.0       Delhi   \n",
       "9   Royal Enfield Classic Desert Storm 500cc   88000.0       Delhi   \n",
       "23        Royal Enfield Classic Chrome 500cc  121700.0      Kalyan   \n",
       "38         Royal Enfield Thunderbird X 500cc  190500.0  Samastipur   \n",
       "55                      Benelli TNT 600i ABS  475000.0      Mumbai   \n",
       "\n",
       "    kms_driven         owner  age  power          brand  \n",
       "2        110.0   First Owner  8.0  675.0        Triumph  \n",
       "9      19000.0  Second Owner  7.0  500.0  Royal Enfield  \n",
       "23     24520.0   First Owner  5.0  500.0  Royal Enfield  \n",
       "38      4550.0   First Owner  2.0  500.0  Royal Enfield  \n",
       "55     11500.0  Second Owner  3.0  600.0        Benelli  "
      ]
     },
     "execution_count": 15,
     "metadata": {},
     "output_type": "execute_result"
    }
   ],
   "source": [
    "higher_power_bikes.head()"
   ]
  },
  {
   "cell_type": "code",
   "execution_count": 16,
   "id": "3b7c2a4f",
   "metadata": {},
   "outputs": [
    {
     "name": "stderr",
     "output_type": "stream",
     "text": [
      "C:\\Users\\Abhishek\\AppData\\Local\\Temp/ipykernel_15124/2187705210.py:1: SettingWithCopyWarning: \n",
      "A value is trying to be set on a copy of a slice from a DataFrame.\n",
      "Try using .loc[row_indexer,col_indexer] = value instead\n",
      "\n",
      "See the caveats in the documentation: https://pandas.pydata.org/pandas-docs/stable/user_guide/indexing.html#returning-a-view-versus-a-copy\n",
      "  higher_power_bikes[\"CC\"]= higher_power_bikes[\"power\"]\n"
     ]
    }
   ],
   "source": [
    "higher_power_bikes[\"CC\"]= higher_power_bikes[\"power\"]"
   ]
  },
  {
   "cell_type": "code",
   "execution_count": 17,
   "id": "1ebf9b59",
   "metadata": {},
   "outputs": [
    {
     "data": {
      "text/html": [
       "<div>\n",
       "<style scoped>\n",
       "    .dataframe tbody tr th:only-of-type {\n",
       "        vertical-align: middle;\n",
       "    }\n",
       "\n",
       "    .dataframe tbody tr th {\n",
       "        vertical-align: top;\n",
       "    }\n",
       "\n",
       "    .dataframe thead th {\n",
       "        text-align: right;\n",
       "    }\n",
       "</style>\n",
       "<table border=\"1\" class=\"dataframe\">\n",
       "  <thead>\n",
       "    <tr style=\"text-align: right;\">\n",
       "      <th></th>\n",
       "      <th>bike_name</th>\n",
       "      <th>price</th>\n",
       "      <th>city</th>\n",
       "      <th>kms_driven</th>\n",
       "      <th>owner</th>\n",
       "      <th>age</th>\n",
       "      <th>power</th>\n",
       "      <th>brand</th>\n",
       "      <th>CC</th>\n",
       "    </tr>\n",
       "  </thead>\n",
       "  <tbody>\n",
       "    <tr>\n",
       "      <th>2</th>\n",
       "      <td>Triumph Daytona 675R</td>\n",
       "      <td>600000.0</td>\n",
       "      <td>Delhi</td>\n",
       "      <td>110.0</td>\n",
       "      <td>First Owner</td>\n",
       "      <td>8.0</td>\n",
       "      <td>675.0</td>\n",
       "      <td>Triumph</td>\n",
       "      <td>675.0</td>\n",
       "    </tr>\n",
       "    <tr>\n",
       "      <th>9</th>\n",
       "      <td>Royal Enfield Classic Desert Storm 500cc</td>\n",
       "      <td>88000.0</td>\n",
       "      <td>Delhi</td>\n",
       "      <td>19000.0</td>\n",
       "      <td>Second Owner</td>\n",
       "      <td>7.0</td>\n",
       "      <td>500.0</td>\n",
       "      <td>Royal Enfield</td>\n",
       "      <td>500.0</td>\n",
       "    </tr>\n",
       "    <tr>\n",
       "      <th>23</th>\n",
       "      <td>Royal Enfield Classic Chrome 500cc</td>\n",
       "      <td>121700.0</td>\n",
       "      <td>Kalyan</td>\n",
       "      <td>24520.0</td>\n",
       "      <td>First Owner</td>\n",
       "      <td>5.0</td>\n",
       "      <td>500.0</td>\n",
       "      <td>Royal Enfield</td>\n",
       "      <td>500.0</td>\n",
       "    </tr>\n",
       "    <tr>\n",
       "      <th>38</th>\n",
       "      <td>Royal Enfield Thunderbird X 500cc</td>\n",
       "      <td>190500.0</td>\n",
       "      <td>Samastipur</td>\n",
       "      <td>4550.0</td>\n",
       "      <td>First Owner</td>\n",
       "      <td>2.0</td>\n",
       "      <td>500.0</td>\n",
       "      <td>Royal Enfield</td>\n",
       "      <td>500.0</td>\n",
       "    </tr>\n",
       "    <tr>\n",
       "      <th>55</th>\n",
       "      <td>Benelli TNT 600i ABS</td>\n",
       "      <td>475000.0</td>\n",
       "      <td>Mumbai</td>\n",
       "      <td>11500.0</td>\n",
       "      <td>Second Owner</td>\n",
       "      <td>3.0</td>\n",
       "      <td>600.0</td>\n",
       "      <td>Benelli</td>\n",
       "      <td>600.0</td>\n",
       "    </tr>\n",
       "  </tbody>\n",
       "</table>\n",
       "</div>"
      ],
      "text/plain": [
       "                                   bike_name     price        city  \\\n",
       "2                       Triumph Daytona 675R  600000.0       Delhi   \n",
       "9   Royal Enfield Classic Desert Storm 500cc   88000.0       Delhi   \n",
       "23        Royal Enfield Classic Chrome 500cc  121700.0      Kalyan   \n",
       "38         Royal Enfield Thunderbird X 500cc  190500.0  Samastipur   \n",
       "55                      Benelli TNT 600i ABS  475000.0      Mumbai   \n",
       "\n",
       "    kms_driven         owner  age  power          brand     CC  \n",
       "2        110.0   First Owner  8.0  675.0        Triumph  675.0  \n",
       "9      19000.0  Second Owner  7.0  500.0  Royal Enfield  500.0  \n",
       "23     24520.0   First Owner  5.0  500.0  Royal Enfield  500.0  \n",
       "38      4550.0   First Owner  2.0  500.0  Royal Enfield  500.0  \n",
       "55     11500.0  Second Owner  3.0  600.0        Benelli  600.0  "
      ]
     },
     "execution_count": 17,
     "metadata": {},
     "output_type": "execute_result"
    }
   ],
   "source": [
    "higher_power_bikes.head()"
   ]
  },
  {
   "cell_type": "code",
   "execution_count": 18,
   "id": "5cec58db",
   "metadata": {},
   "outputs": [],
   "source": [
    "higher_CC_bikes= higher_power_bikes.drop(\"power\", axis=1)"
   ]
  },
  {
   "cell_type": "code",
   "execution_count": 19,
   "id": "3706f324",
   "metadata": {},
   "outputs": [
    {
     "data": {
      "text/html": [
       "<div>\n",
       "<style scoped>\n",
       "    .dataframe tbody tr th:only-of-type {\n",
       "        vertical-align: middle;\n",
       "    }\n",
       "\n",
       "    .dataframe tbody tr th {\n",
       "        vertical-align: top;\n",
       "    }\n",
       "\n",
       "    .dataframe thead th {\n",
       "        text-align: right;\n",
       "    }\n",
       "</style>\n",
       "<table border=\"1\" class=\"dataframe\">\n",
       "  <thead>\n",
       "    <tr style=\"text-align: right;\">\n",
       "      <th></th>\n",
       "      <th>bike_name</th>\n",
       "      <th>price</th>\n",
       "      <th>city</th>\n",
       "      <th>kms_driven</th>\n",
       "      <th>owner</th>\n",
       "      <th>age</th>\n",
       "      <th>brand</th>\n",
       "      <th>CC</th>\n",
       "    </tr>\n",
       "  </thead>\n",
       "  <tbody>\n",
       "    <tr>\n",
       "      <th>2</th>\n",
       "      <td>Triumph Daytona 675R</td>\n",
       "      <td>600000.0</td>\n",
       "      <td>Delhi</td>\n",
       "      <td>110.0</td>\n",
       "      <td>First Owner</td>\n",
       "      <td>8.0</td>\n",
       "      <td>Triumph</td>\n",
       "      <td>675.0</td>\n",
       "    </tr>\n",
       "    <tr>\n",
       "      <th>9</th>\n",
       "      <td>Royal Enfield Classic Desert Storm 500cc</td>\n",
       "      <td>88000.0</td>\n",
       "      <td>Delhi</td>\n",
       "      <td>19000.0</td>\n",
       "      <td>Second Owner</td>\n",
       "      <td>7.0</td>\n",
       "      <td>Royal Enfield</td>\n",
       "      <td>500.0</td>\n",
       "    </tr>\n",
       "    <tr>\n",
       "      <th>23</th>\n",
       "      <td>Royal Enfield Classic Chrome 500cc</td>\n",
       "      <td>121700.0</td>\n",
       "      <td>Kalyan</td>\n",
       "      <td>24520.0</td>\n",
       "      <td>First Owner</td>\n",
       "      <td>5.0</td>\n",
       "      <td>Royal Enfield</td>\n",
       "      <td>500.0</td>\n",
       "    </tr>\n",
       "    <tr>\n",
       "      <th>38</th>\n",
       "      <td>Royal Enfield Thunderbird X 500cc</td>\n",
       "      <td>190500.0</td>\n",
       "      <td>Samastipur</td>\n",
       "      <td>4550.0</td>\n",
       "      <td>First Owner</td>\n",
       "      <td>2.0</td>\n",
       "      <td>Royal Enfield</td>\n",
       "      <td>500.0</td>\n",
       "    </tr>\n",
       "    <tr>\n",
       "      <th>55</th>\n",
       "      <td>Benelli TNT 600i ABS</td>\n",
       "      <td>475000.0</td>\n",
       "      <td>Mumbai</td>\n",
       "      <td>11500.0</td>\n",
       "      <td>Second Owner</td>\n",
       "      <td>3.0</td>\n",
       "      <td>Benelli</td>\n",
       "      <td>600.0</td>\n",
       "    </tr>\n",
       "  </tbody>\n",
       "</table>\n",
       "</div>"
      ],
      "text/plain": [
       "                                   bike_name     price        city  \\\n",
       "2                       Triumph Daytona 675R  600000.0       Delhi   \n",
       "9   Royal Enfield Classic Desert Storm 500cc   88000.0       Delhi   \n",
       "23        Royal Enfield Classic Chrome 500cc  121700.0      Kalyan   \n",
       "38         Royal Enfield Thunderbird X 500cc  190500.0  Samastipur   \n",
       "55                      Benelli TNT 600i ABS  475000.0      Mumbai   \n",
       "\n",
       "    kms_driven         owner  age          brand     CC  \n",
       "2        110.0   First Owner  8.0        Triumph  675.0  \n",
       "9      19000.0  Second Owner  7.0  Royal Enfield  500.0  \n",
       "23     24520.0   First Owner  5.0  Royal Enfield  500.0  \n",
       "38      4550.0   First Owner  2.0  Royal Enfield  500.0  \n",
       "55     11500.0  Second Owner  3.0        Benelli  600.0  "
      ]
     },
     "execution_count": 19,
     "metadata": {},
     "output_type": "execute_result"
    }
   ],
   "source": [
    "higher_CC_bikes.head()"
   ]
  },
  {
   "cell_type": "code",
   "execution_count": 20,
   "id": "04f63f6a",
   "metadata": {},
   "outputs": [
    {
     "data": {
      "text/html": [
       "<div>\n",
       "<style scoped>\n",
       "    .dataframe tbody tr th:only-of-type {\n",
       "        vertical-align: middle;\n",
       "    }\n",
       "\n",
       "    .dataframe tbody tr th {\n",
       "        vertical-align: top;\n",
       "    }\n",
       "\n",
       "    .dataframe thead th {\n",
       "        text-align: right;\n",
       "    }\n",
       "</style>\n",
       "<table border=\"1\" class=\"dataframe\">\n",
       "  <thead>\n",
       "    <tr style=\"text-align: right;\">\n",
       "      <th></th>\n",
       "      <th>index</th>\n",
       "      <th>bike_name</th>\n",
       "      <th>price</th>\n",
       "      <th>city</th>\n",
       "      <th>kms_driven</th>\n",
       "      <th>owner</th>\n",
       "      <th>age</th>\n",
       "      <th>brand</th>\n",
       "      <th>CC</th>\n",
       "    </tr>\n",
       "  </thead>\n",
       "  <tbody>\n",
       "    <tr>\n",
       "      <th>0</th>\n",
       "      <td>2</td>\n",
       "      <td>Triumph Daytona 675R</td>\n",
       "      <td>600000.0</td>\n",
       "      <td>Delhi</td>\n",
       "      <td>110.0</td>\n",
       "      <td>First Owner</td>\n",
       "      <td>8.0</td>\n",
       "      <td>Triumph</td>\n",
       "      <td>675.0</td>\n",
       "    </tr>\n",
       "    <tr>\n",
       "      <th>1</th>\n",
       "      <td>9</td>\n",
       "      <td>Royal Enfield Classic Desert Storm 500cc</td>\n",
       "      <td>88000.0</td>\n",
       "      <td>Delhi</td>\n",
       "      <td>19000.0</td>\n",
       "      <td>Second Owner</td>\n",
       "      <td>7.0</td>\n",
       "      <td>Royal Enfield</td>\n",
       "      <td>500.0</td>\n",
       "    </tr>\n",
       "    <tr>\n",
       "      <th>2</th>\n",
       "      <td>23</td>\n",
       "      <td>Royal Enfield Classic Chrome 500cc</td>\n",
       "      <td>121700.0</td>\n",
       "      <td>Kalyan</td>\n",
       "      <td>24520.0</td>\n",
       "      <td>First Owner</td>\n",
       "      <td>5.0</td>\n",
       "      <td>Royal Enfield</td>\n",
       "      <td>500.0</td>\n",
       "    </tr>\n",
       "    <tr>\n",
       "      <th>3</th>\n",
       "      <td>38</td>\n",
       "      <td>Royal Enfield Thunderbird X 500cc</td>\n",
       "      <td>190500.0</td>\n",
       "      <td>Samastipur</td>\n",
       "      <td>4550.0</td>\n",
       "      <td>First Owner</td>\n",
       "      <td>2.0</td>\n",
       "      <td>Royal Enfield</td>\n",
       "      <td>500.0</td>\n",
       "    </tr>\n",
       "    <tr>\n",
       "      <th>4</th>\n",
       "      <td>55</td>\n",
       "      <td>Benelli TNT 600i ABS</td>\n",
       "      <td>475000.0</td>\n",
       "      <td>Mumbai</td>\n",
       "      <td>11500.0</td>\n",
       "      <td>Second Owner</td>\n",
       "      <td>3.0</td>\n",
       "      <td>Benelli</td>\n",
       "      <td>600.0</td>\n",
       "    </tr>\n",
       "    <tr>\n",
       "      <th>...</th>\n",
       "      <td>...</td>\n",
       "      <td>...</td>\n",
       "      <td>...</td>\n",
       "      <td>...</td>\n",
       "      <td>...</td>\n",
       "      <td>...</td>\n",
       "      <td>...</td>\n",
       "      <td>...</td>\n",
       "      <td>...</td>\n",
       "    </tr>\n",
       "    <tr>\n",
       "      <th>2115</th>\n",
       "      <td>32456</td>\n",
       "      <td>Bajaj Dominar 400 ABS</td>\n",
       "      <td>139000.0</td>\n",
       "      <td>Hyderabad</td>\n",
       "      <td>21300.0</td>\n",
       "      <td>First Owner</td>\n",
       "      <td>4.0</td>\n",
       "      <td>Bajaj</td>\n",
       "      <td>400.0</td>\n",
       "    </tr>\n",
       "    <tr>\n",
       "      <th>2116</th>\n",
       "      <td>32493</td>\n",
       "      <td>Harley-Davidson Street 750 ABS</td>\n",
       "      <td>450000.0</td>\n",
       "      <td>Jodhpur</td>\n",
       "      <td>3430.0</td>\n",
       "      <td>First Owner</td>\n",
       "      <td>4.0</td>\n",
       "      <td>Harley-Davidson</td>\n",
       "      <td>750.0</td>\n",
       "    </tr>\n",
       "    <tr>\n",
       "      <th>2117</th>\n",
       "      <td>32494</td>\n",
       "      <td>Bajaj Dominar 400 ABS</td>\n",
       "      <td>139000.0</td>\n",
       "      <td>Hyderabad</td>\n",
       "      <td>21300.0</td>\n",
       "      <td>First Owner</td>\n",
       "      <td>4.0</td>\n",
       "      <td>Bajaj</td>\n",
       "      <td>400.0</td>\n",
       "    </tr>\n",
       "    <tr>\n",
       "      <th>2118</th>\n",
       "      <td>32626</td>\n",
       "      <td>Harley-Davidson Street 750 ABS</td>\n",
       "      <td>450000.0</td>\n",
       "      <td>Jodhpur</td>\n",
       "      <td>3430.0</td>\n",
       "      <td>First Owner</td>\n",
       "      <td>4.0</td>\n",
       "      <td>Harley-Davidson</td>\n",
       "      <td>750.0</td>\n",
       "    </tr>\n",
       "    <tr>\n",
       "      <th>2119</th>\n",
       "      <td>32627</td>\n",
       "      <td>Bajaj Dominar 400 ABS</td>\n",
       "      <td>139000.0</td>\n",
       "      <td>Hyderabad</td>\n",
       "      <td>21300.0</td>\n",
       "      <td>First Owner</td>\n",
       "      <td>4.0</td>\n",
       "      <td>Bajaj</td>\n",
       "      <td>400.0</td>\n",
       "    </tr>\n",
       "  </tbody>\n",
       "</table>\n",
       "<p>2120 rows × 9 columns</p>\n",
       "</div>"
      ],
      "text/plain": [
       "      index                                 bike_name     price        city  \\\n",
       "0         2                      Triumph Daytona 675R  600000.0       Delhi   \n",
       "1         9  Royal Enfield Classic Desert Storm 500cc   88000.0       Delhi   \n",
       "2        23        Royal Enfield Classic Chrome 500cc  121700.0      Kalyan   \n",
       "3        38         Royal Enfield Thunderbird X 500cc  190500.0  Samastipur   \n",
       "4        55                      Benelli TNT 600i ABS  475000.0      Mumbai   \n",
       "...     ...                                       ...       ...         ...   \n",
       "2115  32456                     Bajaj Dominar 400 ABS  139000.0   Hyderabad   \n",
       "2116  32493            Harley-Davidson Street 750 ABS  450000.0     Jodhpur   \n",
       "2117  32494                     Bajaj Dominar 400 ABS  139000.0   Hyderabad   \n",
       "2118  32626            Harley-Davidson Street 750 ABS  450000.0     Jodhpur   \n",
       "2119  32627                     Bajaj Dominar 400 ABS  139000.0   Hyderabad   \n",
       "\n",
       "      kms_driven         owner  age            brand     CC  \n",
       "0          110.0   First Owner  8.0          Triumph  675.0  \n",
       "1        19000.0  Second Owner  7.0    Royal Enfield  500.0  \n",
       "2        24520.0   First Owner  5.0    Royal Enfield  500.0  \n",
       "3         4550.0   First Owner  2.0    Royal Enfield  500.0  \n",
       "4        11500.0  Second Owner  3.0          Benelli  600.0  \n",
       "...          ...           ...  ...              ...    ...  \n",
       "2115     21300.0   First Owner  4.0            Bajaj  400.0  \n",
       "2116      3430.0   First Owner  4.0  Harley-Davidson  750.0  \n",
       "2117     21300.0   First Owner  4.0            Bajaj  400.0  \n",
       "2118      3430.0   First Owner  4.0  Harley-Davidson  750.0  \n",
       "2119     21300.0   First Owner  4.0            Bajaj  400.0  \n",
       "\n",
       "[2120 rows x 9 columns]"
      ]
     },
     "execution_count": 20,
     "metadata": {},
     "output_type": "execute_result"
    }
   ],
   "source": [
    "higher_CC_bikes.reset_index()"
   ]
  },
  {
   "cell_type": "code",
   "execution_count": 21,
   "id": "e56d0e98",
   "metadata": {},
   "outputs": [
    {
     "data": {
      "text/html": [
       "<div>\n",
       "<style scoped>\n",
       "    .dataframe tbody tr th:only-of-type {\n",
       "        vertical-align: middle;\n",
       "    }\n",
       "\n",
       "    .dataframe tbody tr th {\n",
       "        vertical-align: top;\n",
       "    }\n",
       "\n",
       "    .dataframe thead th {\n",
       "        text-align: right;\n",
       "    }\n",
       "</style>\n",
       "<table border=\"1\" class=\"dataframe\">\n",
       "  <thead>\n",
       "    <tr style=\"text-align: right;\">\n",
       "      <th></th>\n",
       "      <th>bike_name</th>\n",
       "      <th>price</th>\n",
       "      <th>city</th>\n",
       "      <th>kms_driven</th>\n",
       "      <th>owner</th>\n",
       "      <th>age</th>\n",
       "      <th>brand</th>\n",
       "      <th>CC</th>\n",
       "    </tr>\n",
       "  </thead>\n",
       "  <tbody>\n",
       "    <tr>\n",
       "      <th>2</th>\n",
       "      <td>Triumph Daytona 675R</td>\n",
       "      <td>600000.0</td>\n",
       "      <td>Delhi</td>\n",
       "      <td>110.0</td>\n",
       "      <td>First Owner</td>\n",
       "      <td>8.0</td>\n",
       "      <td>Triumph</td>\n",
       "      <td>675.0</td>\n",
       "    </tr>\n",
       "    <tr>\n",
       "      <th>9</th>\n",
       "      <td>Royal Enfield Classic Desert Storm 500cc</td>\n",
       "      <td>88000.0</td>\n",
       "      <td>Delhi</td>\n",
       "      <td>19000.0</td>\n",
       "      <td>Second Owner</td>\n",
       "      <td>7.0</td>\n",
       "      <td>Royal Enfield</td>\n",
       "      <td>500.0</td>\n",
       "    </tr>\n",
       "    <tr>\n",
       "      <th>23</th>\n",
       "      <td>Royal Enfield Classic Chrome 500cc</td>\n",
       "      <td>121700.0</td>\n",
       "      <td>Kalyan</td>\n",
       "      <td>24520.0</td>\n",
       "      <td>First Owner</td>\n",
       "      <td>5.0</td>\n",
       "      <td>Royal Enfield</td>\n",
       "      <td>500.0</td>\n",
       "    </tr>\n",
       "    <tr>\n",
       "      <th>38</th>\n",
       "      <td>Royal Enfield Thunderbird X 500cc</td>\n",
       "      <td>190500.0</td>\n",
       "      <td>Samastipur</td>\n",
       "      <td>4550.0</td>\n",
       "      <td>First Owner</td>\n",
       "      <td>2.0</td>\n",
       "      <td>Royal Enfield</td>\n",
       "      <td>500.0</td>\n",
       "    </tr>\n",
       "    <tr>\n",
       "      <th>55</th>\n",
       "      <td>Benelli TNT 600i ABS</td>\n",
       "      <td>475000.0</td>\n",
       "      <td>Mumbai</td>\n",
       "      <td>11500.0</td>\n",
       "      <td>Second Owner</td>\n",
       "      <td>3.0</td>\n",
       "      <td>Benelli</td>\n",
       "      <td>600.0</td>\n",
       "    </tr>\n",
       "  </tbody>\n",
       "</table>\n",
       "</div>"
      ],
      "text/plain": [
       "                                   bike_name     price        city  \\\n",
       "2                       Triumph Daytona 675R  600000.0       Delhi   \n",
       "9   Royal Enfield Classic Desert Storm 500cc   88000.0       Delhi   \n",
       "23        Royal Enfield Classic Chrome 500cc  121700.0      Kalyan   \n",
       "38         Royal Enfield Thunderbird X 500cc  190500.0  Samastipur   \n",
       "55                      Benelli TNT 600i ABS  475000.0      Mumbai   \n",
       "\n",
       "    kms_driven         owner  age          brand     CC  \n",
       "2        110.0   First Owner  8.0        Triumph  675.0  \n",
       "9      19000.0  Second Owner  7.0  Royal Enfield  500.0  \n",
       "23     24520.0   First Owner  5.0  Royal Enfield  500.0  \n",
       "38      4550.0   First Owner  2.0  Royal Enfield  500.0  \n",
       "55     11500.0  Second Owner  3.0        Benelli  600.0  "
      ]
     },
     "execution_count": 21,
     "metadata": {},
     "output_type": "execute_result"
    }
   ],
   "source": [
    "higher_CC_bikes.head()"
   ]
  },
  {
   "cell_type": "code",
   "execution_count": 22,
   "id": "007e9686",
   "metadata": {},
   "outputs": [
    {
     "data": {
      "text/plain": [
       "Harley-Davidson    736\n",
       "Bajaj              727\n",
       "Royal Enfield      472\n",
       "Kawasaki            56\n",
       "Triumph             26\n",
       "Hyosung             24\n",
       "Ducati              22\n",
       "Benelli             14\n",
       "Suzuki              13\n",
       "Yamaha              11\n",
       "Honda                8\n",
       "BMW                  4\n",
       "MV                   4\n",
       "Indian               3\n",
       "Name: brand, dtype: int64"
      ]
     },
     "execution_count": 22,
     "metadata": {},
     "output_type": "execute_result"
    }
   ],
   "source": [
    "higher_CC_bikes[\"brand\"].value_counts()"
   ]
  },
  {
   "cell_type": "code",
   "execution_count": 23,
   "id": "22bf6326",
   "metadata": {},
   "outputs": [
    {
     "data": {
      "text/plain": [
       "Harley-Davidson    34.716981\n",
       "Bajaj              34.292453\n",
       "Royal Enfield      22.264151\n",
       "Kawasaki            2.641509\n",
       "Triumph             1.226415\n",
       "Hyosung             1.132075\n",
       "Ducati              1.037736\n",
       "Benelli             0.660377\n",
       "Suzuki              0.613208\n",
       "Yamaha              0.518868\n",
       "Honda               0.377358\n",
       "BMW                 0.188679\n",
       "MV                  0.188679\n",
       "Indian              0.141509\n",
       "Name: brand, dtype: float64"
      ]
     },
     "execution_count": 23,
     "metadata": {},
     "output_type": "execute_result"
    }
   ],
   "source": [
    "higher_CC_bikes[\"brand\"].value_counts()*100/len(higher_CC_bikes)"
   ]
  },
  {
   "cell_type": "code",
   "execution_count": 24,
   "id": "66d26259",
   "metadata": {},
   "outputs": [
    {
     "data": {
      "text/plain": [
       "Text(0, 0.5, 'Percentage of higher CC bikes in used market brand-wise')"
      ]
     },
     "execution_count": 24,
     "metadata": {},
     "output_type": "execute_result"
    },
    {
     "data": {
      "image/png": "[encoded data removed]",
      "text/plain": [
       "<Figure size 504x360 with 1 Axes>"
      ]
     },
     "metadata": {
      "needs_background": "light"
     },
     "output_type": "display_data"
    }
   ],
   "source": [
    "round(higher_CC_bikes[\"brand\"].value_counts()*100/len(higher_CC_bikes),2).plot.bar()\n",
    "plt.ylabel(\"Percentage of higher CC bikes in used market brand-wise\")"
   ]
  },
  {
   "cell_type": "code",
   "execution_count": 25,
   "id": "0d13e5a9",
   "metadata": {},
   "outputs": [
    {
     "data": {
      "text/html": [
       "<div>\n",
       "<style scoped>\n",
       "    .dataframe tbody tr th:only-of-type {\n",
       "        vertical-align: middle;\n",
       "    }\n",
       "\n",
       "    .dataframe tbody tr th {\n",
       "        vertical-align: top;\n",
       "    }\n",
       "\n",
       "    .dataframe thead th {\n",
       "        text-align: right;\n",
       "    }\n",
       "</style>\n",
       "<table border=\"1\" class=\"dataframe\">\n",
       "  <thead>\n",
       "    <tr style=\"text-align: right;\">\n",
       "      <th></th>\n",
       "      <th>bike_name</th>\n",
       "      <th>price</th>\n",
       "      <th>city</th>\n",
       "      <th>kms_driven</th>\n",
       "      <th>owner</th>\n",
       "      <th>age</th>\n",
       "      <th>power</th>\n",
       "      <th>brand</th>\n",
       "    </tr>\n",
       "  </thead>\n",
       "  <tbody>\n",
       "    <tr>\n",
       "      <th>0</th>\n",
       "      <td>TVS Star City Plus Dual Tone 110cc</td>\n",
       "      <td>35000.0</td>\n",
       "      <td>Ahmedabad</td>\n",
       "      <td>17654.0</td>\n",
       "      <td>First Owner</td>\n",
       "      <td>3.0</td>\n",
       "      <td>110.0</td>\n",
       "      <td>TVS</td>\n",
       "    </tr>\n",
       "    <tr>\n",
       "      <th>1</th>\n",
       "      <td>Royal Enfield Classic 350cc</td>\n",
       "      <td>119900.0</td>\n",
       "      <td>Delhi</td>\n",
       "      <td>11000.0</td>\n",
       "      <td>First Owner</td>\n",
       "      <td>4.0</td>\n",
       "      <td>350.0</td>\n",
       "      <td>Royal Enfield</td>\n",
       "    </tr>\n",
       "    <tr>\n",
       "      <th>2</th>\n",
       "      <td>Triumph Daytona 675R</td>\n",
       "      <td>600000.0</td>\n",
       "      <td>Delhi</td>\n",
       "      <td>110.0</td>\n",
       "      <td>First Owner</td>\n",
       "      <td>8.0</td>\n",
       "      <td>675.0</td>\n",
       "      <td>Triumph</td>\n",
       "    </tr>\n",
       "    <tr>\n",
       "      <th>3</th>\n",
       "      <td>TVS Apache RTR 180cc</td>\n",
       "      <td>65000.0</td>\n",
       "      <td>Bangalore</td>\n",
       "      <td>16329.0</td>\n",
       "      <td>First Owner</td>\n",
       "      <td>4.0</td>\n",
       "      <td>180.0</td>\n",
       "      <td>TVS</td>\n",
       "    </tr>\n",
       "    <tr>\n",
       "      <th>4</th>\n",
       "      <td>Yamaha FZ S V 2.0 150cc-Ltd. Edition</td>\n",
       "      <td>80000.0</td>\n",
       "      <td>Bangalore</td>\n",
       "      <td>10000.0</td>\n",
       "      <td>First Owner</td>\n",
       "      <td>3.0</td>\n",
       "      <td>150.0</td>\n",
       "      <td>Yamaha</td>\n",
       "    </tr>\n",
       "  </tbody>\n",
       "</table>\n",
       "</div>"
      ],
      "text/plain": [
       "                              bike_name     price       city  kms_driven  \\\n",
       "0    TVS Star City Plus Dual Tone 110cc   35000.0  Ahmedabad     17654.0   \n",
       "1           Royal Enfield Classic 350cc  119900.0      Delhi     11000.0   \n",
       "2                  Triumph Daytona 675R  600000.0      Delhi       110.0   \n",
       "3                  TVS Apache RTR 180cc   65000.0  Bangalore     16329.0   \n",
       "4  Yamaha FZ S V 2.0 150cc-Ltd. Edition   80000.0  Bangalore     10000.0   \n",
       "\n",
       "         owner  age  power          brand  \n",
       "0  First Owner  3.0  110.0            TVS  \n",
       "1  First Owner  4.0  350.0  Royal Enfield  \n",
       "2  First Owner  8.0  675.0        Triumph  \n",
       "3  First Owner  4.0  180.0            TVS  \n",
       "4  First Owner  3.0  150.0         Yamaha  "
      ]
     },
     "execution_count": 25,
     "metadata": {},
     "output_type": "execute_result"
    }
   ],
   "source": [
    "ub.head()"
   ]
  },
  {
   "cell_type": "code",
   "execution_count": 26,
   "id": "9b3b2071",
   "metadata": {},
   "outputs": [],
   "source": [
    "ub[\"CC\"]= ub[\"power\"]"
   ]
  },
  {
   "cell_type": "code",
   "execution_count": 27,
   "id": "0532faab",
   "metadata": {},
   "outputs": [
    {
     "data": {
      "text/html": [
       "<div>\n",
       "<style scoped>\n",
       "    .dataframe tbody tr th:only-of-type {\n",
       "        vertical-align: middle;\n",
       "    }\n",
       "\n",
       "    .dataframe tbody tr th {\n",
       "        vertical-align: top;\n",
       "    }\n",
       "\n",
       "    .dataframe thead th {\n",
       "        text-align: right;\n",
       "    }\n",
       "</style>\n",
       "<table border=\"1\" class=\"dataframe\">\n",
       "  <thead>\n",
       "    <tr style=\"text-align: right;\">\n",
       "      <th></th>\n",
       "      <th>bike_name</th>\n",
       "      <th>price</th>\n",
       "      <th>city</th>\n",
       "      <th>kms_driven</th>\n",
       "      <th>owner</th>\n",
       "      <th>age</th>\n",
       "      <th>power</th>\n",
       "      <th>brand</th>\n",
       "      <th>CC</th>\n",
       "    </tr>\n",
       "  </thead>\n",
       "  <tbody>\n",
       "    <tr>\n",
       "      <th>0</th>\n",
       "      <td>TVS Star City Plus Dual Tone 110cc</td>\n",
       "      <td>35000.0</td>\n",
       "      <td>Ahmedabad</td>\n",
       "      <td>17654.0</td>\n",
       "      <td>First Owner</td>\n",
       "      <td>3.0</td>\n",
       "      <td>110.0</td>\n",
       "      <td>TVS</td>\n",
       "      <td>110.0</td>\n",
       "    </tr>\n",
       "    <tr>\n",
       "      <th>1</th>\n",
       "      <td>Royal Enfield Classic 350cc</td>\n",
       "      <td>119900.0</td>\n",
       "      <td>Delhi</td>\n",
       "      <td>11000.0</td>\n",
       "      <td>First Owner</td>\n",
       "      <td>4.0</td>\n",
       "      <td>350.0</td>\n",
       "      <td>Royal Enfield</td>\n",
       "      <td>350.0</td>\n",
       "    </tr>\n",
       "    <tr>\n",
       "      <th>2</th>\n",
       "      <td>Triumph Daytona 675R</td>\n",
       "      <td>600000.0</td>\n",
       "      <td>Delhi</td>\n",
       "      <td>110.0</td>\n",
       "      <td>First Owner</td>\n",
       "      <td>8.0</td>\n",
       "      <td>675.0</td>\n",
       "      <td>Triumph</td>\n",
       "      <td>675.0</td>\n",
       "    </tr>\n",
       "    <tr>\n",
       "      <th>3</th>\n",
       "      <td>TVS Apache RTR 180cc</td>\n",
       "      <td>65000.0</td>\n",
       "      <td>Bangalore</td>\n",
       "      <td>16329.0</td>\n",
       "      <td>First Owner</td>\n",
       "      <td>4.0</td>\n",
       "      <td>180.0</td>\n",
       "      <td>TVS</td>\n",
       "      <td>180.0</td>\n",
       "    </tr>\n",
       "    <tr>\n",
       "      <th>4</th>\n",
       "      <td>Yamaha FZ S V 2.0 150cc-Ltd. Edition</td>\n",
       "      <td>80000.0</td>\n",
       "      <td>Bangalore</td>\n",
       "      <td>10000.0</td>\n",
       "      <td>First Owner</td>\n",
       "      <td>3.0</td>\n",
       "      <td>150.0</td>\n",
       "      <td>Yamaha</td>\n",
       "      <td>150.0</td>\n",
       "    </tr>\n",
       "  </tbody>\n",
       "</table>\n",
       "</div>"
      ],
      "text/plain": [
       "                              bike_name     price       city  kms_driven  \\\n",
       "0    TVS Star City Plus Dual Tone 110cc   35000.0  Ahmedabad     17654.0   \n",
       "1           Royal Enfield Classic 350cc  119900.0      Delhi     11000.0   \n",
       "2                  Triumph Daytona 675R  600000.0      Delhi       110.0   \n",
       "3                  TVS Apache RTR 180cc   65000.0  Bangalore     16329.0   \n",
       "4  Yamaha FZ S V 2.0 150cc-Ltd. Edition   80000.0  Bangalore     10000.0   \n",
       "\n",
       "         owner  age  power          brand     CC  \n",
       "0  First Owner  3.0  110.0            TVS  110.0  \n",
       "1  First Owner  4.0  350.0  Royal Enfield  350.0  \n",
       "2  First Owner  8.0  675.0        Triumph  675.0  \n",
       "3  First Owner  4.0  180.0            TVS  180.0  \n",
       "4  First Owner  3.0  150.0         Yamaha  150.0  "
      ]
     },
     "execution_count": 27,
     "metadata": {},
     "output_type": "execute_result"
    }
   ],
   "source": [
    "ub.head()"
   ]
  },
  {
   "cell_type": "code",
   "execution_count": 28,
   "id": "2fe6e019",
   "metadata": {},
   "outputs": [],
   "source": [
    "ub=ub.drop(\"power\", axis=1)"
   ]
  },
  {
   "cell_type": "code",
   "execution_count": 29,
   "id": "435f7b2f",
   "metadata": {},
   "outputs": [
    {
     "data": {
      "text/html": [
       "<div>\n",
       "<style scoped>\n",
       "    .dataframe tbody tr th:only-of-type {\n",
       "        vertical-align: middle;\n",
       "    }\n",
       "\n",
       "    .dataframe tbody tr th {\n",
       "        vertical-align: top;\n",
       "    }\n",
       "\n",
       "    .dataframe thead th {\n",
       "        text-align: right;\n",
       "    }\n",
       "</style>\n",
       "<table border=\"1\" class=\"dataframe\">\n",
       "  <thead>\n",
       "    <tr style=\"text-align: right;\">\n",
       "      <th></th>\n",
       "      <th>bike_name</th>\n",
       "      <th>price</th>\n",
       "      <th>city</th>\n",
       "      <th>kms_driven</th>\n",
       "      <th>owner</th>\n",
       "      <th>age</th>\n",
       "      <th>brand</th>\n",
       "      <th>CC</th>\n",
       "    </tr>\n",
       "  </thead>\n",
       "  <tbody>\n",
       "    <tr>\n",
       "      <th>0</th>\n",
       "      <td>TVS Star City Plus Dual Tone 110cc</td>\n",
       "      <td>35000.0</td>\n",
       "      <td>Ahmedabad</td>\n",
       "      <td>17654.0</td>\n",
       "      <td>First Owner</td>\n",
       "      <td>3.0</td>\n",
       "      <td>TVS</td>\n",
       "      <td>110.0</td>\n",
       "    </tr>\n",
       "    <tr>\n",
       "      <th>1</th>\n",
       "      <td>Royal Enfield Classic 350cc</td>\n",
       "      <td>119900.0</td>\n",
       "      <td>Delhi</td>\n",
       "      <td>11000.0</td>\n",
       "      <td>First Owner</td>\n",
       "      <td>4.0</td>\n",
       "      <td>Royal Enfield</td>\n",
       "      <td>350.0</td>\n",
       "    </tr>\n",
       "    <tr>\n",
       "      <th>2</th>\n",
       "      <td>Triumph Daytona 675R</td>\n",
       "      <td>600000.0</td>\n",
       "      <td>Delhi</td>\n",
       "      <td>110.0</td>\n",
       "      <td>First Owner</td>\n",
       "      <td>8.0</td>\n",
       "      <td>Triumph</td>\n",
       "      <td>675.0</td>\n",
       "    </tr>\n",
       "    <tr>\n",
       "      <th>3</th>\n",
       "      <td>TVS Apache RTR 180cc</td>\n",
       "      <td>65000.0</td>\n",
       "      <td>Bangalore</td>\n",
       "      <td>16329.0</td>\n",
       "      <td>First Owner</td>\n",
       "      <td>4.0</td>\n",
       "      <td>TVS</td>\n",
       "      <td>180.0</td>\n",
       "    </tr>\n",
       "    <tr>\n",
       "      <th>4</th>\n",
       "      <td>Yamaha FZ S V 2.0 150cc-Ltd. Edition</td>\n",
       "      <td>80000.0</td>\n",
       "      <td>Bangalore</td>\n",
       "      <td>10000.0</td>\n",
       "      <td>First Owner</td>\n",
       "      <td>3.0</td>\n",
       "      <td>Yamaha</td>\n",
       "      <td>150.0</td>\n",
       "    </tr>\n",
       "  </tbody>\n",
       "</table>\n",
       "</div>"
      ],
      "text/plain": [
       "                              bike_name     price       city  kms_driven  \\\n",
       "0    TVS Star City Plus Dual Tone 110cc   35000.0  Ahmedabad     17654.0   \n",
       "1           Royal Enfield Classic 350cc  119900.0      Delhi     11000.0   \n",
       "2                  Triumph Daytona 675R  600000.0      Delhi       110.0   \n",
       "3                  TVS Apache RTR 180cc   65000.0  Bangalore     16329.0   \n",
       "4  Yamaha FZ S V 2.0 150cc-Ltd. Edition   80000.0  Bangalore     10000.0   \n",
       "\n",
       "         owner  age          brand     CC  \n",
       "0  First Owner  3.0            TVS  110.0  \n",
       "1  First Owner  4.0  Royal Enfield  350.0  \n",
       "2  First Owner  8.0        Triumph  675.0  \n",
       "3  First Owner  4.0            TVS  180.0  \n",
       "4  First Owner  3.0         Yamaha  150.0  "
      ]
     },
     "execution_count": 29,
     "metadata": {},
     "output_type": "execute_result"
    }
   ],
   "source": [
    "ub.head()"
   ]
  },
  {
   "cell_type": "code",
   "execution_count": 30,
   "id": "4e299fab",
   "metadata": {},
   "outputs": [
    {
     "data": {
      "text/html": [
       "<div>\n",
       "<style scoped>\n",
       "    .dataframe tbody tr th:only-of-type {\n",
       "        vertical-align: middle;\n",
       "    }\n",
       "\n",
       "    .dataframe tbody tr th {\n",
       "        vertical-align: top;\n",
       "    }\n",
       "\n",
       "    .dataframe thead th {\n",
       "        text-align: right;\n",
       "    }\n",
       "</style>\n",
       "<table border=\"1\" class=\"dataframe\">\n",
       "  <thead>\n",
       "    <tr style=\"text-align: right;\">\n",
       "      <th></th>\n",
       "      <th>bike_name</th>\n",
       "      <th>price</th>\n",
       "      <th>city</th>\n",
       "      <th>kms_driven</th>\n",
       "      <th>owner</th>\n",
       "      <th>age</th>\n",
       "      <th>brand</th>\n",
       "      <th>CC</th>\n",
       "    </tr>\n",
       "  </thead>\n",
       "  <tbody>\n",
       "    <tr>\n",
       "      <th>2</th>\n",
       "      <td>Triumph Daytona 675R</td>\n",
       "      <td>600000.0</td>\n",
       "      <td>Delhi</td>\n",
       "      <td>110.0</td>\n",
       "      <td>First Owner</td>\n",
       "      <td>8.0</td>\n",
       "      <td>Triumph</td>\n",
       "      <td>675.0</td>\n",
       "    </tr>\n",
       "    <tr>\n",
       "      <th>9</th>\n",
       "      <td>Royal Enfield Classic Desert Storm 500cc</td>\n",
       "      <td>88000.0</td>\n",
       "      <td>Delhi</td>\n",
       "      <td>19000.0</td>\n",
       "      <td>Second Owner</td>\n",
       "      <td>7.0</td>\n",
       "      <td>Royal Enfield</td>\n",
       "      <td>500.0</td>\n",
       "    </tr>\n",
       "    <tr>\n",
       "      <th>110</th>\n",
       "      <td>Hyosung GT650R</td>\n",
       "      <td>400000.0</td>\n",
       "      <td>Delhi</td>\n",
       "      <td>1800.0</td>\n",
       "      <td>First Owner</td>\n",
       "      <td>4.0</td>\n",
       "      <td>Hyosung</td>\n",
       "      <td>650.0</td>\n",
       "    </tr>\n",
       "    <tr>\n",
       "      <th>152</th>\n",
       "      <td>Bajaj Dominar 400</td>\n",
       "      <td>116000.0</td>\n",
       "      <td>Delhi</td>\n",
       "      <td>11716.0</td>\n",
       "      <td>First Owner</td>\n",
       "      <td>3.0</td>\n",
       "      <td>Bajaj</td>\n",
       "      <td>400.0</td>\n",
       "    </tr>\n",
       "    <tr>\n",
       "      <th>218</th>\n",
       "      <td>Bajaj Dominar 400</td>\n",
       "      <td>115000.0</td>\n",
       "      <td>Delhi</td>\n",
       "      <td>7593.0</td>\n",
       "      <td>First Owner</td>\n",
       "      <td>4.0</td>\n",
       "      <td>Bajaj</td>\n",
       "      <td>400.0</td>\n",
       "    </tr>\n",
       "    <tr>\n",
       "      <th>...</th>\n",
       "      <td>...</td>\n",
       "      <td>...</td>\n",
       "      <td>...</td>\n",
       "      <td>...</td>\n",
       "      <td>...</td>\n",
       "      <td>...</td>\n",
       "      <td>...</td>\n",
       "      <td>...</td>\n",
       "    </tr>\n",
       "    <tr>\n",
       "      <th>9188</th>\n",
       "      <td>Hyosung GT650R</td>\n",
       "      <td>304952.0</td>\n",
       "      <td>Delhi</td>\n",
       "      <td>13000.0</td>\n",
       "      <td>Second Owner</td>\n",
       "      <td>7.0</td>\n",
       "      <td>Hyosung</td>\n",
       "      <td>650.0</td>\n",
       "    </tr>\n",
       "    <tr>\n",
       "      <th>9241</th>\n",
       "      <td>Royal Enfield Classic Desert Storm 500cc</td>\n",
       "      <td>140000.0</td>\n",
       "      <td>Delhi</td>\n",
       "      <td>8500.0</td>\n",
       "      <td>First Owner</td>\n",
       "      <td>5.0</td>\n",
       "      <td>Royal Enfield</td>\n",
       "      <td>500.0</td>\n",
       "    </tr>\n",
       "    <tr>\n",
       "      <th>9266</th>\n",
       "      <td>Harley-Davidson Street 750</td>\n",
       "      <td>478000.0</td>\n",
       "      <td>Delhi</td>\n",
       "      <td>1300.0</td>\n",
       "      <td>First Owner</td>\n",
       "      <td>5.0</td>\n",
       "      <td>Harley-Davidson</td>\n",
       "      <td>750.0</td>\n",
       "    </tr>\n",
       "    <tr>\n",
       "      <th>9323</th>\n",
       "      <td>Bajaj Dominar 400 ABS</td>\n",
       "      <td>120601.0</td>\n",
       "      <td>Delhi</td>\n",
       "      <td>19631.0</td>\n",
       "      <td>Second Owner</td>\n",
       "      <td>4.0</td>\n",
       "      <td>Bajaj</td>\n",
       "      <td>400.0</td>\n",
       "    </tr>\n",
       "    <tr>\n",
       "      <th>9338</th>\n",
       "      <td>Royal Enfield Himalayan 410cc</td>\n",
       "      <td>138000.0</td>\n",
       "      <td>Delhi</td>\n",
       "      <td>5000.0</td>\n",
       "      <td>First Owner</td>\n",
       "      <td>5.0</td>\n",
       "      <td>Royal Enfield</td>\n",
       "      <td>410.0</td>\n",
       "    </tr>\n",
       "  </tbody>\n",
       "</table>\n",
       "<p>171 rows × 8 columns</p>\n",
       "</div>"
      ],
      "text/plain": [
       "                                     bike_name     price   city  kms_driven  \\\n",
       "2                         Triumph Daytona 675R  600000.0  Delhi       110.0   \n",
       "9     Royal Enfield Classic Desert Storm 500cc   88000.0  Delhi     19000.0   \n",
       "110                             Hyosung GT650R  400000.0  Delhi      1800.0   \n",
       "152                          Bajaj Dominar 400  116000.0  Delhi     11716.0   \n",
       "218                          Bajaj Dominar 400  115000.0  Delhi      7593.0   \n",
       "...                                        ...       ...    ...         ...   \n",
       "9188                            Hyosung GT650R  304952.0  Delhi     13000.0   \n",
       "9241  Royal Enfield Classic Desert Storm 500cc  140000.0  Delhi      8500.0   \n",
       "9266                Harley-Davidson Street 750  478000.0  Delhi      1300.0   \n",
       "9323                     Bajaj Dominar 400 ABS  120601.0  Delhi     19631.0   \n",
       "9338             Royal Enfield Himalayan 410cc  138000.0  Delhi      5000.0   \n",
       "\n",
       "             owner  age            brand     CC  \n",
       "2      First Owner  8.0          Triumph  675.0  \n",
       "9     Second Owner  7.0    Royal Enfield  500.0  \n",
       "110    First Owner  4.0          Hyosung  650.0  \n",
       "152    First Owner  3.0            Bajaj  400.0  \n",
       "218    First Owner  4.0            Bajaj  400.0  \n",
       "...            ...  ...              ...    ...  \n",
       "9188  Second Owner  7.0          Hyosung  650.0  \n",
       "9241   First Owner  5.0    Royal Enfield  500.0  \n",
       "9266   First Owner  5.0  Harley-Davidson  750.0  \n",
       "9323  Second Owner  4.0            Bajaj  400.0  \n",
       "9338   First Owner  5.0    Royal Enfield  410.0  \n",
       "\n",
       "[171 rows x 8 columns]"
      ]
     },
     "execution_count": 30,
     "metadata": {},
     "output_type": "execute_result"
    }
   ],
   "source": [
    "higher_CC_bikes[higher_CC_bikes[\"city\"]== \"Delhi\"]"
   ]
  },
  {
   "cell_type": "code",
   "execution_count": 31,
   "id": "0143ac13",
   "metadata": {},
   "outputs": [
    {
     "data": {
      "text/plain": [
       "Hyderabad      662\n",
       "Jodhpur        619\n",
       "Delhi          171\n",
       "Bangalore      112\n",
       "Mumbai         105\n",
       "              ... \n",
       "Solapur          1\n",
       "Murad Nagar      1\n",
       "Herbertpur       1\n",
       "Moradabad        1\n",
       "Thrissur         1\n",
       "Name: city, Length: 121, dtype: int64"
      ]
     },
     "execution_count": 31,
     "metadata": {},
     "output_type": "execute_result"
    }
   ],
   "source": [
    "higher_CC_bikes[\"city\"].value_counts()"
   ]
  },
  {
   "cell_type": "code",
   "execution_count": 32,
   "id": "b96c9fae",
   "metadata": {},
   "outputs": [
    {
     "data": {
      "text/html": [
       "<div>\n",
       "<style scoped>\n",
       "    .dataframe tbody tr th:only-of-type {\n",
       "        vertical-align: middle;\n",
       "    }\n",
       "\n",
       "    .dataframe tbody tr th {\n",
       "        vertical-align: top;\n",
       "    }\n",
       "\n",
       "    .dataframe thead th {\n",
       "        text-align: right;\n",
       "    }\n",
       "</style>\n",
       "<table border=\"1\" class=\"dataframe\">\n",
       "  <thead>\n",
       "    <tr style=\"text-align: right;\">\n",
       "      <th></th>\n",
       "      <th>bike_name</th>\n",
       "      <th>price</th>\n",
       "      <th>city</th>\n",
       "      <th>kms_driven</th>\n",
       "      <th>owner</th>\n",
       "      <th>age</th>\n",
       "      <th>brand</th>\n",
       "      <th>CC</th>\n",
       "    </tr>\n",
       "  </thead>\n",
       "  <tbody>\n",
       "    <tr>\n",
       "      <th>133</th>\n",
       "      <td>Harley-Davidson Street 750</td>\n",
       "      <td>300000.0</td>\n",
       "      <td>Ghaziabad</td>\n",
       "      <td>3500.0</td>\n",
       "      <td>First Owner</td>\n",
       "      <td>6.0</td>\n",
       "      <td>Harley-Davidson</td>\n",
       "      <td>750.0</td>\n",
       "    </tr>\n",
       "    <tr>\n",
       "      <th>282</th>\n",
       "      <td>KTM RC 390cc</td>\n",
       "      <td>160000.0</td>\n",
       "      <td>Ghaziabad</td>\n",
       "      <td>23000.0</td>\n",
       "      <td>First Owner</td>\n",
       "      <td>5.0</td>\n",
       "      <td>KTM</td>\n",
       "      <td>390.0</td>\n",
       "    </tr>\n",
       "    <tr>\n",
       "      <th>509</th>\n",
       "      <td>Royal Enfield Bullet Electra 350cc</td>\n",
       "      <td>85000.0</td>\n",
       "      <td>Ghaziabad</td>\n",
       "      <td>34000.0</td>\n",
       "      <td>First Owner</td>\n",
       "      <td>9.0</td>\n",
       "      <td>Royal Enfield</td>\n",
       "      <td>350.0</td>\n",
       "    </tr>\n",
       "    <tr>\n",
       "      <th>621</th>\n",
       "      <td>Hero Passion Pro 100cc</td>\n",
       "      <td>25000.0</td>\n",
       "      <td>Ghaziabad</td>\n",
       "      <td>20000.0</td>\n",
       "      <td>First Owner</td>\n",
       "      <td>8.0</td>\n",
       "      <td>Hero</td>\n",
       "      <td>100.0</td>\n",
       "    </tr>\n",
       "    <tr>\n",
       "      <th>675</th>\n",
       "      <td>Bajaj Discover 135cc</td>\n",
       "      <td>20300.0</td>\n",
       "      <td>Ghaziabad</td>\n",
       "      <td>39450.0</td>\n",
       "      <td>First Owner</td>\n",
       "      <td>14.0</td>\n",
       "      <td>Bajaj</td>\n",
       "      <td>135.0</td>\n",
       "    </tr>\n",
       "    <tr>\n",
       "      <th>...</th>\n",
       "      <td>...</td>\n",
       "      <td>...</td>\n",
       "      <td>...</td>\n",
       "      <td>...</td>\n",
       "      <td>...</td>\n",
       "      <td>...</td>\n",
       "      <td>...</td>\n",
       "      <td>...</td>\n",
       "    </tr>\n",
       "    <tr>\n",
       "      <th>32355</th>\n",
       "      <td>Bajaj Pulsar 150cc</td>\n",
       "      <td>10000.0</td>\n",
       "      <td>Ghaziabad</td>\n",
       "      <td>64955.0</td>\n",
       "      <td>First Owner</td>\n",
       "      <td>15.0</td>\n",
       "      <td>Bajaj</td>\n",
       "      <td>150.0</td>\n",
       "    </tr>\n",
       "    <tr>\n",
       "      <th>32374</th>\n",
       "      <td>Bajaj Pulsar 150cc</td>\n",
       "      <td>10000.0</td>\n",
       "      <td>Ghaziabad</td>\n",
       "      <td>64955.0</td>\n",
       "      <td>First Owner</td>\n",
       "      <td>15.0</td>\n",
       "      <td>Bajaj</td>\n",
       "      <td>150.0</td>\n",
       "    </tr>\n",
       "    <tr>\n",
       "      <th>32450</th>\n",
       "      <td>Bajaj Pulsar 150cc</td>\n",
       "      <td>10000.0</td>\n",
       "      <td>Ghaziabad</td>\n",
       "      <td>64955.0</td>\n",
       "      <td>First Owner</td>\n",
       "      <td>15.0</td>\n",
       "      <td>Bajaj</td>\n",
       "      <td>150.0</td>\n",
       "    </tr>\n",
       "    <tr>\n",
       "      <th>32488</th>\n",
       "      <td>Bajaj Pulsar 150cc</td>\n",
       "      <td>10000.0</td>\n",
       "      <td>Ghaziabad</td>\n",
       "      <td>64955.0</td>\n",
       "      <td>First Owner</td>\n",
       "      <td>15.0</td>\n",
       "      <td>Bajaj</td>\n",
       "      <td>150.0</td>\n",
       "    </tr>\n",
       "    <tr>\n",
       "      <th>32621</th>\n",
       "      <td>Bajaj Pulsar 150cc</td>\n",
       "      <td>10000.0</td>\n",
       "      <td>Ghaziabad</td>\n",
       "      <td>64955.0</td>\n",
       "      <td>First Owner</td>\n",
       "      <td>15.0</td>\n",
       "      <td>Bajaj</td>\n",
       "      <td>150.0</td>\n",
       "    </tr>\n",
       "  </tbody>\n",
       "</table>\n",
       "<p>938 rows × 8 columns</p>\n",
       "</div>"
      ],
      "text/plain": [
       "                                bike_name     price       city  kms_driven  \\\n",
       "133            Harley-Davidson Street 750  300000.0  Ghaziabad      3500.0   \n",
       "282                          KTM RC 390cc  160000.0  Ghaziabad     23000.0   \n",
       "509    Royal Enfield Bullet Electra 350cc   85000.0  Ghaziabad     34000.0   \n",
       "621                Hero Passion Pro 100cc   25000.0  Ghaziabad     20000.0   \n",
       "675                  Bajaj Discover 135cc   20300.0  Ghaziabad     39450.0   \n",
       "...                                   ...       ...        ...         ...   \n",
       "32355                  Bajaj Pulsar 150cc   10000.0  Ghaziabad     64955.0   \n",
       "32374                  Bajaj Pulsar 150cc   10000.0  Ghaziabad     64955.0   \n",
       "32450                  Bajaj Pulsar 150cc   10000.0  Ghaziabad     64955.0   \n",
       "32488                  Bajaj Pulsar 150cc   10000.0  Ghaziabad     64955.0   \n",
       "32621                  Bajaj Pulsar 150cc   10000.0  Ghaziabad     64955.0   \n",
       "\n",
       "             owner   age            brand     CC  \n",
       "133    First Owner   6.0  Harley-Davidson  750.0  \n",
       "282    First Owner   5.0              KTM  390.0  \n",
       "509    First Owner   9.0    Royal Enfield  350.0  \n",
       "621    First Owner   8.0             Hero  100.0  \n",
       "675    First Owner  14.0            Bajaj  135.0  \n",
       "...            ...   ...              ...    ...  \n",
       "32355  First Owner  15.0            Bajaj  150.0  \n",
       "32374  First Owner  15.0            Bajaj  150.0  \n",
       "32450  First Owner  15.0            Bajaj  150.0  \n",
       "32488  First Owner  15.0            Bajaj  150.0  \n",
       "32621  First Owner  15.0            Bajaj  150.0  \n",
       "\n",
       "[938 rows x 8 columns]"
      ]
     },
     "execution_count": 32,
     "metadata": {},
     "output_type": "execute_result"
    }
   ],
   "source": [
    "ub[ub[\"city\"]==\"Ghaziabad\"]"
   ]
  },
  {
   "cell_type": "code",
   "execution_count": 33,
   "id": "dc417711",
   "metadata": {},
   "outputs": [
    {
     "data": {
      "text/html": [
       "<div>\n",
       "<style scoped>\n",
       "    .dataframe tbody tr th:only-of-type {\n",
       "        vertical-align: middle;\n",
       "    }\n",
       "\n",
       "    .dataframe tbody tr th {\n",
       "        vertical-align: top;\n",
       "    }\n",
       "\n",
       "    .dataframe thead th {\n",
       "        text-align: right;\n",
       "    }\n",
       "</style>\n",
       "<table border=\"1\" class=\"dataframe\">\n",
       "  <thead>\n",
       "    <tr style=\"text-align: right;\">\n",
       "      <th></th>\n",
       "      <th>bike_name</th>\n",
       "      <th>price</th>\n",
       "      <th>city</th>\n",
       "      <th>kms_driven</th>\n",
       "      <th>owner</th>\n",
       "      <th>age</th>\n",
       "      <th>brand</th>\n",
       "      <th>CC</th>\n",
       "    </tr>\n",
       "  </thead>\n",
       "  <tbody>\n",
       "    <tr>\n",
       "      <th>1</th>\n",
       "      <td>Royal Enfield Classic 350cc</td>\n",
       "      <td>119900.0</td>\n",
       "      <td>Delhi</td>\n",
       "      <td>11000.0</td>\n",
       "      <td>First Owner</td>\n",
       "      <td>4.0</td>\n",
       "      <td>Royal Enfield</td>\n",
       "      <td>350.0</td>\n",
       "    </tr>\n",
       "    <tr>\n",
       "      <th>2</th>\n",
       "      <td>Triumph Daytona 675R</td>\n",
       "      <td>600000.0</td>\n",
       "      <td>Delhi</td>\n",
       "      <td>110.0</td>\n",
       "      <td>First Owner</td>\n",
       "      <td>8.0</td>\n",
       "      <td>Triumph</td>\n",
       "      <td>675.0</td>\n",
       "    </tr>\n",
       "    <tr>\n",
       "      <th>5</th>\n",
       "      <td>Yamaha FZs 150cc</td>\n",
       "      <td>53499.0</td>\n",
       "      <td>Delhi</td>\n",
       "      <td>25000.0</td>\n",
       "      <td>First Owner</td>\n",
       "      <td>6.0</td>\n",
       "      <td>Yamaha</td>\n",
       "      <td>150.0</td>\n",
       "    </tr>\n",
       "    <tr>\n",
       "      <th>6</th>\n",
       "      <td>Honda CB Hornet 160R  ABS DLX</td>\n",
       "      <td>85000.0</td>\n",
       "      <td>Delhi</td>\n",
       "      <td>8200.0</td>\n",
       "      <td>First Owner</td>\n",
       "      <td>3.0</td>\n",
       "      <td>Honda</td>\n",
       "      <td>160.0</td>\n",
       "    </tr>\n",
       "    <tr>\n",
       "      <th>7</th>\n",
       "      <td>Hero Splendor Plus Self Alloy 100cc</td>\n",
       "      <td>45000.0</td>\n",
       "      <td>Delhi</td>\n",
       "      <td>12645.0</td>\n",
       "      <td>First Owner</td>\n",
       "      <td>3.0</td>\n",
       "      <td>Hero</td>\n",
       "      <td>100.0</td>\n",
       "    </tr>\n",
       "    <tr>\n",
       "      <th>...</th>\n",
       "      <td>...</td>\n",
       "      <td>...</td>\n",
       "      <td>...</td>\n",
       "      <td>...</td>\n",
       "      <td>...</td>\n",
       "      <td>...</td>\n",
       "      <td>...</td>\n",
       "      <td>...</td>\n",
       "    </tr>\n",
       "    <tr>\n",
       "      <th>32639</th>\n",
       "      <td>Royal Enfield Classic 350cc</td>\n",
       "      <td>95500.0</td>\n",
       "      <td>Delhi</td>\n",
       "      <td>18000.0</td>\n",
       "      <td>First Owner</td>\n",
       "      <td>8.0</td>\n",
       "      <td>Royal Enfield</td>\n",
       "      <td>350.0</td>\n",
       "    </tr>\n",
       "    <tr>\n",
       "      <th>32640</th>\n",
       "      <td>Hero Passion Pro 100cc</td>\n",
       "      <td>32000.0</td>\n",
       "      <td>Delhi</td>\n",
       "      <td>12000.0</td>\n",
       "      <td>First Owner</td>\n",
       "      <td>6.0</td>\n",
       "      <td>Hero</td>\n",
       "      <td>100.0</td>\n",
       "    </tr>\n",
       "    <tr>\n",
       "      <th>32641</th>\n",
       "      <td>Bajaj Avenger 220cc</td>\n",
       "      <td>41000.0</td>\n",
       "      <td>Delhi</td>\n",
       "      <td>20245.0</td>\n",
       "      <td>Second Owner</td>\n",
       "      <td>11.0</td>\n",
       "      <td>Bajaj</td>\n",
       "      <td>220.0</td>\n",
       "    </tr>\n",
       "    <tr>\n",
       "      <th>32643</th>\n",
       "      <td>Hero Passion Pro 100cc</td>\n",
       "      <td>39000.0</td>\n",
       "      <td>Delhi</td>\n",
       "      <td>22000.0</td>\n",
       "      <td>First Owner</td>\n",
       "      <td>4.0</td>\n",
       "      <td>Hero</td>\n",
       "      <td>100.0</td>\n",
       "    </tr>\n",
       "    <tr>\n",
       "      <th>32645</th>\n",
       "      <td>Bajaj Avenger Street 220</td>\n",
       "      <td>60000.0</td>\n",
       "      <td>Delhi</td>\n",
       "      <td>20373.0</td>\n",
       "      <td>First Owner</td>\n",
       "      <td>6.0</td>\n",
       "      <td>Bajaj</td>\n",
       "      <td>220.0</td>\n",
       "    </tr>\n",
       "  </tbody>\n",
       "</table>\n",
       "<p>7318 rows × 8 columns</p>\n",
       "</div>"
      ],
      "text/plain": [
       "                                 bike_name     price   city  kms_driven  \\\n",
       "1              Royal Enfield Classic 350cc  119900.0  Delhi     11000.0   \n",
       "2                     Triumph Daytona 675R  600000.0  Delhi       110.0   \n",
       "5                         Yamaha FZs 150cc   53499.0  Delhi     25000.0   \n",
       "6            Honda CB Hornet 160R  ABS DLX   85000.0  Delhi      8200.0   \n",
       "7      Hero Splendor Plus Self Alloy 100cc   45000.0  Delhi     12645.0   \n",
       "...                                    ...       ...    ...         ...   \n",
       "32639          Royal Enfield Classic 350cc   95500.0  Delhi     18000.0   \n",
       "32640               Hero Passion Pro 100cc   32000.0  Delhi     12000.0   \n",
       "32641                  Bajaj Avenger 220cc   41000.0  Delhi     20245.0   \n",
       "32643               Hero Passion Pro 100cc   39000.0  Delhi     22000.0   \n",
       "32645             Bajaj Avenger Street 220   60000.0  Delhi     20373.0   \n",
       "\n",
       "              owner   age          brand     CC  \n",
       "1       First Owner   4.0  Royal Enfield  350.0  \n",
       "2       First Owner   8.0        Triumph  675.0  \n",
       "5       First Owner   6.0         Yamaha  150.0  \n",
       "6       First Owner   3.0          Honda  160.0  \n",
       "7       First Owner   3.0           Hero  100.0  \n",
       "...             ...   ...            ...    ...  \n",
       "32639   First Owner   8.0  Royal Enfield  350.0  \n",
       "32640   First Owner   6.0           Hero  100.0  \n",
       "32641  Second Owner  11.0          Bajaj  220.0  \n",
       "32643   First Owner   4.0           Hero  100.0  \n",
       "32645   First Owner   6.0          Bajaj  220.0  \n",
       "\n",
       "[7318 rows x 8 columns]"
      ]
     },
     "execution_count": 33,
     "metadata": {},
     "output_type": "execute_result"
    }
   ],
   "source": [
    "ub[ub[\"city\"]== \"Delhi\"]"
   ]
  },
  {
   "cell_type": "code",
   "execution_count": 34,
   "id": "20c8c1b7",
   "metadata": {},
   "outputs": [
    {
     "data": {
      "text/plain": [
       "First Owner             29964\n",
       "Second Owner             2564\n",
       "Third Owner               108\n",
       "Fourth Owner Or More       12\n",
       "Name: owner, dtype: int64"
      ]
     },
     "execution_count": 34,
     "metadata": {},
     "output_type": "execute_result"
    }
   ],
   "source": [
    "ub[\"owner\"].value_counts()"
   ]
  },
  {
   "cell_type": "code",
   "execution_count": 35,
   "id": "68007760",
   "metadata": {},
   "outputs": [
    {
     "data": {
      "text/plain": [
       "<AxesSubplot:>"
      ]
     },
     "execution_count": 35,
     "metadata": {},
     "output_type": "execute_result"
    },
    {
     "data": {
      "image/png": "[encoded data removed]",
      "text/plain": [
       "<Figure size 504x360 with 1 Axes>"
      ]
     },
     "metadata": {
      "needs_background": "light"
     },
     "output_type": "display_data"
    }
   ],
   "source": [
    "ub[\"owner\"].value_counts().plot.bar()"
   ]
  },
  {
   "cell_type": "code",
   "execution_count": 36,
   "id": "4bd8d60d",
   "metadata": {},
   "outputs": [
    {
     "data": {
      "text/plain": [
       "First Owner     95.330189\n",
       "Second Owner     4.056604\n",
       "Third Owner      0.613208\n",
       "Name: owner, dtype: float64"
      ]
     },
     "execution_count": 36,
     "metadata": {},
     "output_type": "execute_result"
    }
   ],
   "source": [
    "higher_CC_bikes[\"owner\"].value_counts()*100/len(higher_CC_bikes)"
   ]
  },
  {
   "cell_type": "code",
   "execution_count": 37,
   "id": "8f4a8d1a",
   "metadata": {},
   "outputs": [
    {
     "data": {
      "text/plain": [
       "First Owner             91.778976\n",
       "Second Owner             7.853467\n",
       "Third Owner              0.330801\n",
       "Fourth Owner Or More     0.036756\n",
       "Name: owner, dtype: float64"
      ]
     },
     "execution_count": 37,
     "metadata": {},
     "output_type": "execute_result"
    }
   ],
   "source": [
    "ub[\"owner\"].value_counts()*100/len(ub)"
   ]
  },
  {
   "cell_type": "code",
   "execution_count": 38,
   "id": "85b2ad8c",
   "metadata": {},
   "outputs": [
    {
     "data": {
      "text/plain": [
       "8.048211222739525"
      ]
     },
     "execution_count": 38,
     "metadata": {},
     "output_type": "execute_result"
    }
   ],
   "source": [
    "#averag age of all the bikes\n",
    "ub[\"age\"].mean()"
   ]
  },
  {
   "cell_type": "code",
   "execution_count": 39,
   "id": "ab938106",
   "metadata": {},
   "outputs": [
    {
     "data": {
      "text/plain": [
       "4.4919811320754715"
      ]
     },
     "execution_count": 39,
     "metadata": {},
     "output_type": "execute_result"
    }
   ],
   "source": [
    "#average age of higher cc bikes\n",
    "higher_CC_bikes[\"age\"].mean()"
   ]
  },
  {
   "cell_type": "code",
   "execution_count": 40,
   "id": "b88f57c4",
   "metadata": {},
   "outputs": [
    {
     "data": {
      "text/html": [
       "<div>\n",
       "<style scoped>\n",
       "    .dataframe tbody tr th:only-of-type {\n",
       "        vertical-align: middle;\n",
       "    }\n",
       "\n",
       "    .dataframe tbody tr th {\n",
       "        vertical-align: top;\n",
       "    }\n",
       "\n",
       "    .dataframe thead th {\n",
       "        text-align: right;\n",
       "    }\n",
       "</style>\n",
       "<table border=\"1\" class=\"dataframe\">\n",
       "  <thead>\n",
       "    <tr style=\"text-align: right;\">\n",
       "      <th></th>\n",
       "      <th>bike_name</th>\n",
       "      <th>price</th>\n",
       "      <th>city</th>\n",
       "      <th>kms_driven</th>\n",
       "      <th>owner</th>\n",
       "      <th>age</th>\n",
       "      <th>brand</th>\n",
       "      <th>CC</th>\n",
       "    </tr>\n",
       "  </thead>\n",
       "  <tbody>\n",
       "    <tr>\n",
       "      <th>18</th>\n",
       "      <td>Benelli 302R 300CC</td>\n",
       "      <td>240000.0</td>\n",
       "      <td>Mumbai</td>\n",
       "      <td>15025.0</td>\n",
       "      <td>Second Owner</td>\n",
       "      <td>3.0</td>\n",
       "      <td>Benelli</td>\n",
       "      <td>302.0</td>\n",
       "    </tr>\n",
       "    <tr>\n",
       "      <th>33</th>\n",
       "      <td>KTM RC 390cc</td>\n",
       "      <td>180000.0</td>\n",
       "      <td>Pune</td>\n",
       "      <td>17700.0</td>\n",
       "      <td>First Owner</td>\n",
       "      <td>4.0</td>\n",
       "      <td>KTM</td>\n",
       "      <td>390.0</td>\n",
       "    </tr>\n",
       "    <tr>\n",
       "      <th>38</th>\n",
       "      <td>Royal Enfield Thunderbird X 500cc</td>\n",
       "      <td>190500.0</td>\n",
       "      <td>Samastipur</td>\n",
       "      <td>4550.0</td>\n",
       "      <td>First Owner</td>\n",
       "      <td>2.0</td>\n",
       "      <td>Royal Enfield</td>\n",
       "      <td>500.0</td>\n",
       "    </tr>\n",
       "    <tr>\n",
       "      <th>39</th>\n",
       "      <td>KTM RC 200cc ABS</td>\n",
       "      <td>179000.0</td>\n",
       "      <td>Bangalore</td>\n",
       "      <td>3400.0</td>\n",
       "      <td>First Owner</td>\n",
       "      <td>2.0</td>\n",
       "      <td>KTM</td>\n",
       "      <td>200.0</td>\n",
       "    </tr>\n",
       "    <tr>\n",
       "      <th>69</th>\n",
       "      <td>Kawasaki Ninja 650cc</td>\n",
       "      <td>290000.0</td>\n",
       "      <td>Dharwad</td>\n",
       "      <td>11350.0</td>\n",
       "      <td>First Owner</td>\n",
       "      <td>7.0</td>\n",
       "      <td>Kawasaki</td>\n",
       "      <td>650.0</td>\n",
       "    </tr>\n",
       "    <tr>\n",
       "      <th>...</th>\n",
       "      <td>...</td>\n",
       "      <td>...</td>\n",
       "      <td>...</td>\n",
       "      <td>...</td>\n",
       "      <td>...</td>\n",
       "      <td>...</td>\n",
       "      <td>...</td>\n",
       "      <td>...</td>\n",
       "    </tr>\n",
       "    <tr>\n",
       "      <th>32541</th>\n",
       "      <td>KTM RC 390cc</td>\n",
       "      <td>196700.0</td>\n",
       "      <td>Mumbai</td>\n",
       "      <td>13216.0</td>\n",
       "      <td>First Owner</td>\n",
       "      <td>4.0</td>\n",
       "      <td>KTM</td>\n",
       "      <td>390.0</td>\n",
       "    </tr>\n",
       "    <tr>\n",
       "      <th>32560</th>\n",
       "      <td>KTM RC 390cc</td>\n",
       "      <td>196700.0</td>\n",
       "      <td>Mumbai</td>\n",
       "      <td>13216.0</td>\n",
       "      <td>First Owner</td>\n",
       "      <td>4.0</td>\n",
       "      <td>KTM</td>\n",
       "      <td>390.0</td>\n",
       "    </tr>\n",
       "    <tr>\n",
       "      <th>32579</th>\n",
       "      <td>KTM RC 390cc</td>\n",
       "      <td>196700.0</td>\n",
       "      <td>Mumbai</td>\n",
       "      <td>13216.0</td>\n",
       "      <td>First Owner</td>\n",
       "      <td>4.0</td>\n",
       "      <td>KTM</td>\n",
       "      <td>390.0</td>\n",
       "    </tr>\n",
       "    <tr>\n",
       "      <th>32598</th>\n",
       "      <td>KTM RC 390cc</td>\n",
       "      <td>196700.0</td>\n",
       "      <td>Mumbai</td>\n",
       "      <td>13216.0</td>\n",
       "      <td>First Owner</td>\n",
       "      <td>4.0</td>\n",
       "      <td>KTM</td>\n",
       "      <td>390.0</td>\n",
       "    </tr>\n",
       "    <tr>\n",
       "      <th>32636</th>\n",
       "      <td>KTM RC 390cc</td>\n",
       "      <td>196700.0</td>\n",
       "      <td>Mumbai</td>\n",
       "      <td>13216.0</td>\n",
       "      <td>First Owner</td>\n",
       "      <td>4.0</td>\n",
       "      <td>KTM</td>\n",
       "      <td>390.0</td>\n",
       "    </tr>\n",
       "  </tbody>\n",
       "</table>\n",
       "<p>1211 rows × 8 columns</p>\n",
       "</div>"
      ],
      "text/plain": [
       "                               bike_name     price        city  kms_driven  \\\n",
       "18                    Benelli 302R 300CC  240000.0      Mumbai     15025.0   \n",
       "33                          KTM RC 390cc  180000.0        Pune     17700.0   \n",
       "38     Royal Enfield Thunderbird X 500cc  190500.0  Samastipur      4550.0   \n",
       "39                      KTM RC 200cc ABS  179000.0   Bangalore      3400.0   \n",
       "69                  Kawasaki Ninja 650cc  290000.0     Dharwad     11350.0   \n",
       "...                                  ...       ...         ...         ...   \n",
       "32541                       KTM RC 390cc  196700.0      Mumbai     13216.0   \n",
       "32560                       KTM RC 390cc  196700.0      Mumbai     13216.0   \n",
       "32579                       KTM RC 390cc  196700.0      Mumbai     13216.0   \n",
       "32598                       KTM RC 390cc  196700.0      Mumbai     13216.0   \n",
       "32636                       KTM RC 390cc  196700.0      Mumbai     13216.0   \n",
       "\n",
       "              owner  age          brand     CC  \n",
       "18     Second Owner  3.0        Benelli  302.0  \n",
       "33      First Owner  4.0            KTM  390.0  \n",
       "38      First Owner  2.0  Royal Enfield  500.0  \n",
       "39      First Owner  2.0            KTM  200.0  \n",
       "69      First Owner  7.0       Kawasaki  650.0  \n",
       "...             ...  ...            ...    ...  \n",
       "32541   First Owner  4.0            KTM  390.0  \n",
       "32560   First Owner  4.0            KTM  390.0  \n",
       "32579   First Owner  4.0            KTM  390.0  \n",
       "32598   First Owner  4.0            KTM  390.0  \n",
       "32636   First Owner  4.0            KTM  390.0  \n",
       "\n",
       "[1211 rows x 8 columns]"
      ]
     },
     "execution_count": 40,
     "metadata": {},
     "output_type": "execute_result"
    }
   ],
   "source": [
    "ub[ub[\"price\"].between(149999, 300001)]"
   ]
  },
  {
   "cell_type": "code",
   "execution_count": 41,
   "id": "12ab3828",
   "metadata": {},
   "outputs": [
    {
     "data": {
      "text/plain": [
       "0          (30000.0, 64400.0]\n",
       "1        (64400.0, 1900000.0]\n",
       "2        (64400.0, 1900000.0]\n",
       "3        (64400.0, 1900000.0]\n",
       "4        (64400.0, 1900000.0]\n",
       "                 ...         \n",
       "32643      (30000.0, 64400.0]\n",
       "32644     (4399.999, 30000.0]\n",
       "32645      (30000.0, 64400.0]\n",
       "32646     (4399.999, 30000.0]\n",
       "32647     (4399.999, 30000.0]\n",
       "Name: price, Length: 32648, dtype: category\n",
       "Categories (3, interval[float64, right]): [(4399.999, 30000.0] < (30000.0, 64400.0] < (64400.0, 1900000.0]]"
      ]
     },
     "execution_count": 41,
     "metadata": {},
     "output_type": "execute_result"
    }
   ],
   "source": [
    "pd.qcut(ub[\"price\"], q= 3, labels= None)"
   ]
  },
  {
   "cell_type": "code",
   "execution_count": 42,
   "id": "d9b4a587",
   "metadata": {},
   "outputs": [],
   "source": [
    "?pd.qcut"
   ]
  },
  {
   "cell_type": "code",
   "execution_count": 43,
   "id": "f9f92c19",
   "metadata": {},
   "outputs": [
    {
     "data": {
      "text/html": [
       "<div>\n",
       "<style scoped>\n",
       "    .dataframe tbody tr th:only-of-type {\n",
       "        vertical-align: middle;\n",
       "    }\n",
       "\n",
       "    .dataframe tbody tr th {\n",
       "        vertical-align: top;\n",
       "    }\n",
       "\n",
       "    .dataframe thead th {\n",
       "        text-align: right;\n",
       "    }\n",
       "</style>\n",
       "<table border=\"1\" class=\"dataframe\">\n",
       "  <thead>\n",
       "    <tr style=\"text-align: right;\">\n",
       "      <th></th>\n",
       "      <th>bike_name</th>\n",
       "      <th>price</th>\n",
       "      <th>city</th>\n",
       "      <th>kms_driven</th>\n",
       "      <th>owner</th>\n",
       "      <th>age</th>\n",
       "      <th>brand</th>\n",
       "      <th>CC</th>\n",
       "    </tr>\n",
       "  </thead>\n",
       "  <tbody>\n",
       "    <tr>\n",
       "      <th>0</th>\n",
       "      <td>TVS Star City Plus Dual Tone 110cc</td>\n",
       "      <td>35000.0</td>\n",
       "      <td>Ahmedabad</td>\n",
       "      <td>17654.0</td>\n",
       "      <td>First Owner</td>\n",
       "      <td>3.0</td>\n",
       "      <td>TVS</td>\n",
       "      <td>110.0</td>\n",
       "    </tr>\n",
       "    <tr>\n",
       "      <th>1</th>\n",
       "      <td>Royal Enfield Classic 350cc</td>\n",
       "      <td>119900.0</td>\n",
       "      <td>Delhi</td>\n",
       "      <td>11000.0</td>\n",
       "      <td>First Owner</td>\n",
       "      <td>4.0</td>\n",
       "      <td>Royal Enfield</td>\n",
       "      <td>350.0</td>\n",
       "    </tr>\n",
       "    <tr>\n",
       "      <th>2</th>\n",
       "      <td>Triumph Daytona 675R</td>\n",
       "      <td>600000.0</td>\n",
       "      <td>Delhi</td>\n",
       "      <td>110.0</td>\n",
       "      <td>First Owner</td>\n",
       "      <td>8.0</td>\n",
       "      <td>Triumph</td>\n",
       "      <td>675.0</td>\n",
       "    </tr>\n",
       "    <tr>\n",
       "      <th>3</th>\n",
       "      <td>TVS Apache RTR 180cc</td>\n",
       "      <td>65000.0</td>\n",
       "      <td>Bangalore</td>\n",
       "      <td>16329.0</td>\n",
       "      <td>First Owner</td>\n",
       "      <td>4.0</td>\n",
       "      <td>TVS</td>\n",
       "      <td>180.0</td>\n",
       "    </tr>\n",
       "    <tr>\n",
       "      <th>4</th>\n",
       "      <td>Yamaha FZ S V 2.0 150cc-Ltd. Edition</td>\n",
       "      <td>80000.0</td>\n",
       "      <td>Bangalore</td>\n",
       "      <td>10000.0</td>\n",
       "      <td>First Owner</td>\n",
       "      <td>3.0</td>\n",
       "      <td>Yamaha</td>\n",
       "      <td>150.0</td>\n",
       "    </tr>\n",
       "  </tbody>\n",
       "</table>\n",
       "</div>"
      ],
      "text/plain": [
       "                              bike_name     price       city  kms_driven  \\\n",
       "0    TVS Star City Plus Dual Tone 110cc   35000.0  Ahmedabad     17654.0   \n",
       "1           Royal Enfield Classic 350cc  119900.0      Delhi     11000.0   \n",
       "2                  Triumph Daytona 675R  600000.0      Delhi       110.0   \n",
       "3                  TVS Apache RTR 180cc   65000.0  Bangalore     16329.0   \n",
       "4  Yamaha FZ S V 2.0 150cc-Ltd. Edition   80000.0  Bangalore     10000.0   \n",
       "\n",
       "         owner  age          brand     CC  \n",
       "0  First Owner  3.0            TVS  110.0  \n",
       "1  First Owner  4.0  Royal Enfield  350.0  \n",
       "2  First Owner  8.0        Triumph  675.0  \n",
       "3  First Owner  4.0            TVS  180.0  \n",
       "4  First Owner  3.0         Yamaha  150.0  "
      ]
     },
     "execution_count": 43,
     "metadata": {},
     "output_type": "execute_result"
    }
   ],
   "source": [
    "ub.head()"
   ]
  },
  {
   "cell_type": "code",
   "execution_count": 44,
   "id": "73bc4f68",
   "metadata": {},
   "outputs": [
    {
     "data": {
      "text/plain": [
       "1900000.0"
      ]
     },
     "execution_count": 44,
     "metadata": {},
     "output_type": "execute_result"
    }
   ],
   "source": [
    "ub[\"price\"].max()"
   ]
  },
  {
   "cell_type": "code",
   "execution_count": 45,
   "id": "8388a8e9",
   "metadata": {},
   "outputs": [
    {
     "data": {
      "text/html": [
       "<div>\n",
       "<style scoped>\n",
       "    .dataframe tbody tr th:only-of-type {\n",
       "        vertical-align: middle;\n",
       "    }\n",
       "\n",
       "    .dataframe tbody tr th {\n",
       "        vertical-align: top;\n",
       "    }\n",
       "\n",
       "    .dataframe thead th {\n",
       "        text-align: right;\n",
       "    }\n",
       "</style>\n",
       "<table border=\"1\" class=\"dataframe\">\n",
       "  <thead>\n",
       "    <tr style=\"text-align: right;\">\n",
       "      <th></th>\n",
       "      <th>bike_name</th>\n",
       "      <th>price</th>\n",
       "      <th>city</th>\n",
       "      <th>kms_driven</th>\n",
       "      <th>owner</th>\n",
       "      <th>age</th>\n",
       "      <th>brand</th>\n",
       "      <th>CC</th>\n",
       "    </tr>\n",
       "  </thead>\n",
       "  <tbody>\n",
       "    <tr>\n",
       "      <th>367</th>\n",
       "      <td>Indian Chief Classic 1800cc</td>\n",
       "      <td>1900000.0</td>\n",
       "      <td>Chennai</td>\n",
       "      <td>1700.0</td>\n",
       "      <td>First Owner</td>\n",
       "      <td>6.0</td>\n",
       "      <td>Indian</td>\n",
       "      <td>1800.0</td>\n",
       "    </tr>\n",
       "  </tbody>\n",
       "</table>\n",
       "</div>"
      ],
      "text/plain": [
       "                       bike_name      price     city  kms_driven        owner  \\\n",
       "367  Indian Chief Classic 1800cc  1900000.0  Chennai      1700.0  First Owner   \n",
       "\n",
       "     age   brand      CC  \n",
       "367  6.0  Indian  1800.0  "
      ]
     },
     "execution_count": 45,
     "metadata": {},
     "output_type": "execute_result"
    }
   ],
   "source": [
    "ub[ub[\"price\"]== 1900000]"
   ]
  },
  {
   "cell_type": "code",
   "execution_count": 46,
   "id": "b51ba7bd",
   "metadata": {},
   "outputs": [
    {
     "data": {
      "text/html": [
       "<div>\n",
       "<style scoped>\n",
       "    .dataframe tbody tr th:only-of-type {\n",
       "        vertical-align: middle;\n",
       "    }\n",
       "\n",
       "    .dataframe tbody tr th {\n",
       "        vertical-align: top;\n",
       "    }\n",
       "\n",
       "    .dataframe thead th {\n",
       "        text-align: right;\n",
       "    }\n",
       "</style>\n",
       "<table border=\"1\" class=\"dataframe\">\n",
       "  <thead>\n",
       "    <tr style=\"text-align: right;\">\n",
       "      <th></th>\n",
       "      <th>bike_name</th>\n",
       "      <th>price</th>\n",
       "      <th>city</th>\n",
       "      <th>kms_driven</th>\n",
       "      <th>owner</th>\n",
       "      <th>age</th>\n",
       "      <th>brand</th>\n",
       "      <th>CC</th>\n",
       "    </tr>\n",
       "  </thead>\n",
       "  <tbody>\n",
       "    <tr>\n",
       "      <th>4960</th>\n",
       "      <td>LML Freedom DX 110cc</td>\n",
       "      <td>4400.0</td>\n",
       "      <td>Godhara</td>\n",
       "      <td>55000.0</td>\n",
       "      <td>First Owner</td>\n",
       "      <td>16.0</td>\n",
       "      <td>LML</td>\n",
       "      <td>110.0</td>\n",
       "    </tr>\n",
       "  </tbody>\n",
       "</table>\n",
       "</div>"
      ],
      "text/plain": [
       "                 bike_name   price     city  kms_driven        owner   age  \\\n",
       "4960  LML Freedom DX 110cc  4400.0  Godhara     55000.0  First Owner  16.0   \n",
       "\n",
       "     brand     CC  \n",
       "4960   LML  110.0  "
      ]
     },
     "execution_count": 46,
     "metadata": {},
     "output_type": "execute_result"
    }
   ],
   "source": [
    "ub[ub[\"price\"]== ub[\"price\"].min()]"
   ]
  },
  {
   "cell_type": "code",
   "execution_count": 47,
   "id": "43e17e91",
   "metadata": {},
   "outputs": [],
   "source": [
    "seqprice= [4400,100000,300000,700000, 1900000]"
   ]
  },
  {
   "cell_type": "code",
   "execution_count": 48,
   "id": "e3793d99",
   "metadata": {},
   "outputs": [],
   "source": [
    "ub[\"price range\"]=pd.cut(x=ub[\"price\"], bins= seqprice, labels=[\"cheap\", \"mid_range\", \"expensive\", \"exotic\"])"
   ]
  },
  {
   "cell_type": "code",
   "execution_count": 49,
   "id": "0b2ba113",
   "metadata": {},
   "outputs": [
    {
     "data": {
      "text/html": [
       "<div>\n",
       "<style scoped>\n",
       "    .dataframe tbody tr th:only-of-type {\n",
       "        vertical-align: middle;\n",
       "    }\n",
       "\n",
       "    .dataframe tbody tr th {\n",
       "        vertical-align: top;\n",
       "    }\n",
       "\n",
       "    .dataframe thead th {\n",
       "        text-align: right;\n",
       "    }\n",
       "</style>\n",
       "<table border=\"1\" class=\"dataframe\">\n",
       "  <thead>\n",
       "    <tr style=\"text-align: right;\">\n",
       "      <th></th>\n",
       "      <th>bike_name</th>\n",
       "      <th>price</th>\n",
       "      <th>city</th>\n",
       "      <th>kms_driven</th>\n",
       "      <th>owner</th>\n",
       "      <th>age</th>\n",
       "      <th>brand</th>\n",
       "      <th>CC</th>\n",
       "      <th>price range</th>\n",
       "    </tr>\n",
       "  </thead>\n",
       "  <tbody>\n",
       "    <tr>\n",
       "      <th>0</th>\n",
       "      <td>TVS Star City Plus Dual Tone 110cc</td>\n",
       "      <td>35000.0</td>\n",
       "      <td>Ahmedabad</td>\n",
       "      <td>17654.0</td>\n",
       "      <td>First Owner</td>\n",
       "      <td>3.0</td>\n",
       "      <td>TVS</td>\n",
       "      <td>110.0</td>\n",
       "      <td>cheap</td>\n",
       "    </tr>\n",
       "    <tr>\n",
       "      <th>1</th>\n",
       "      <td>Royal Enfield Classic 350cc</td>\n",
       "      <td>119900.0</td>\n",
       "      <td>Delhi</td>\n",
       "      <td>11000.0</td>\n",
       "      <td>First Owner</td>\n",
       "      <td>4.0</td>\n",
       "      <td>Royal Enfield</td>\n",
       "      <td>350.0</td>\n",
       "      <td>mid_range</td>\n",
       "    </tr>\n",
       "    <tr>\n",
       "      <th>2</th>\n",
       "      <td>Triumph Daytona 675R</td>\n",
       "      <td>600000.0</td>\n",
       "      <td>Delhi</td>\n",
       "      <td>110.0</td>\n",
       "      <td>First Owner</td>\n",
       "      <td>8.0</td>\n",
       "      <td>Triumph</td>\n",
       "      <td>675.0</td>\n",
       "      <td>expensive</td>\n",
       "    </tr>\n",
       "    <tr>\n",
       "      <th>3</th>\n",
       "      <td>TVS Apache RTR 180cc</td>\n",
       "      <td>65000.0</td>\n",
       "      <td>Bangalore</td>\n",
       "      <td>16329.0</td>\n",
       "      <td>First Owner</td>\n",
       "      <td>4.0</td>\n",
       "      <td>TVS</td>\n",
       "      <td>180.0</td>\n",
       "      <td>cheap</td>\n",
       "    </tr>\n",
       "    <tr>\n",
       "      <th>4</th>\n",
       "      <td>Yamaha FZ S V 2.0 150cc-Ltd. Edition</td>\n",
       "      <td>80000.0</td>\n",
       "      <td>Bangalore</td>\n",
       "      <td>10000.0</td>\n",
       "      <td>First Owner</td>\n",
       "      <td>3.0</td>\n",
       "      <td>Yamaha</td>\n",
       "      <td>150.0</td>\n",
       "      <td>cheap</td>\n",
       "    </tr>\n",
       "  </tbody>\n",
       "</table>\n",
       "</div>"
      ],
      "text/plain": [
       "                              bike_name     price       city  kms_driven  \\\n",
       "0    TVS Star City Plus Dual Tone 110cc   35000.0  Ahmedabad     17654.0   \n",
       "1           Royal Enfield Classic 350cc  119900.0      Delhi     11000.0   \n",
       "2                  Triumph Daytona 675R  600000.0      Delhi       110.0   \n",
       "3                  TVS Apache RTR 180cc   65000.0  Bangalore     16329.0   \n",
       "4  Yamaha FZ S V 2.0 150cc-Ltd. Edition   80000.0  Bangalore     10000.0   \n",
       "\n",
       "         owner  age          brand     CC price range  \n",
       "0  First Owner  3.0            TVS  110.0       cheap  \n",
       "1  First Owner  4.0  Royal Enfield  350.0   mid_range  \n",
       "2  First Owner  8.0        Triumph  675.0   expensive  \n",
       "3  First Owner  4.0            TVS  180.0       cheap  \n",
       "4  First Owner  3.0         Yamaha  150.0       cheap  "
      ]
     },
     "execution_count": 49,
     "metadata": {},
     "output_type": "execute_result"
    }
   ],
   "source": [
    "ub.head()"
   ]
  },
  {
   "cell_type": "code",
   "execution_count": 50,
   "id": "21b38d78",
   "metadata": {},
   "outputs": [
    {
     "data": {
      "text/html": [
       "<div>\n",
       "<style scoped>\n",
       "    .dataframe tbody tr th:only-of-type {\n",
       "        vertical-align: middle;\n",
       "    }\n",
       "\n",
       "    .dataframe tbody tr th {\n",
       "        vertical-align: top;\n",
       "    }\n",
       "\n",
       "    .dataframe thead th {\n",
       "        text-align: right;\n",
       "    }\n",
       "</style>\n",
       "<table border=\"1\" class=\"dataframe\">\n",
       "  <thead>\n",
       "    <tr style=\"text-align: right;\">\n",
       "      <th></th>\n",
       "      <th>bike_name</th>\n",
       "      <th>price</th>\n",
       "      <th>city</th>\n",
       "      <th>kms_driven</th>\n",
       "      <th>owner</th>\n",
       "      <th>age</th>\n",
       "      <th>brand</th>\n",
       "      <th>CC</th>\n",
       "      <th>price range</th>\n",
       "    </tr>\n",
       "  </thead>\n",
       "  <tbody>\n",
       "    <tr>\n",
       "      <th>61</th>\n",
       "      <td>Kawasaki Z900</td>\n",
       "      <td>935000.0</td>\n",
       "      <td>Bagalkot</td>\n",
       "      <td>2500.0</td>\n",
       "      <td>First Owner</td>\n",
       "      <td>2.0</td>\n",
       "      <td>Kawasaki</td>\n",
       "      <td>900.0</td>\n",
       "      <td>exotic</td>\n",
       "    </tr>\n",
       "    <tr>\n",
       "      <th>92</th>\n",
       "      <td>Ducati Scrambler 1100 Special</td>\n",
       "      <td>1350000.0</td>\n",
       "      <td>Mumbai</td>\n",
       "      <td>190.0</td>\n",
       "      <td>First Owner</td>\n",
       "      <td>1.0</td>\n",
       "      <td>Ducati</td>\n",
       "      <td>1100.0</td>\n",
       "      <td>exotic</td>\n",
       "    </tr>\n",
       "    <tr>\n",
       "      <th>93</th>\n",
       "      <td>Triumph Street Triple 765</td>\n",
       "      <td>790000.0</td>\n",
       "      <td>Mumbai</td>\n",
       "      <td>19000.0</td>\n",
       "      <td>First Owner</td>\n",
       "      <td>3.0</td>\n",
       "      <td>Triumph</td>\n",
       "      <td>765.0</td>\n",
       "      <td>exotic</td>\n",
       "    </tr>\n",
       "    <tr>\n",
       "      <th>124</th>\n",
       "      <td>Ducati 1299 Superleggera</td>\n",
       "      <td>800000.0</td>\n",
       "      <td>Mumbai</td>\n",
       "      <td>3.0</td>\n",
       "      <td>First Owner</td>\n",
       "      <td>3.0</td>\n",
       "      <td>Ducati</td>\n",
       "      <td>1299.0</td>\n",
       "      <td>exotic</td>\n",
       "    </tr>\n",
       "    <tr>\n",
       "      <th>167</th>\n",
       "      <td>Suzuki Hayabusa 1300cc</td>\n",
       "      <td>950000.0</td>\n",
       "      <td>Chennai</td>\n",
       "      <td>312.0</td>\n",
       "      <td>First Owner</td>\n",
       "      <td>3.0</td>\n",
       "      <td>Suzuki</td>\n",
       "      <td>1300.0</td>\n",
       "      <td>exotic</td>\n",
       "    </tr>\n",
       "    <tr>\n",
       "      <th>...</th>\n",
       "      <td>...</td>\n",
       "      <td>...</td>\n",
       "      <td>...</td>\n",
       "      <td>...</td>\n",
       "      <td>...</td>\n",
       "      <td>...</td>\n",
       "      <td>...</td>\n",
       "      <td>...</td>\n",
       "      <td>...</td>\n",
       "    </tr>\n",
       "    <tr>\n",
       "      <th>8454</th>\n",
       "      <td>Harley-Davidson 1200 Custom</td>\n",
       "      <td>780000.0</td>\n",
       "      <td>Tiruvallur</td>\n",
       "      <td>13000.0</td>\n",
       "      <td>First Owner</td>\n",
       "      <td>4.0</td>\n",
       "      <td>Harley-Davidson</td>\n",
       "      <td>1200.0</td>\n",
       "      <td>exotic</td>\n",
       "    </tr>\n",
       "    <tr>\n",
       "      <th>8495</th>\n",
       "      <td>Harley-Davidson 1200 Custom</td>\n",
       "      <td>780000.0</td>\n",
       "      <td>Tiruvallur</td>\n",
       "      <td>13000.0</td>\n",
       "      <td>First Owner</td>\n",
       "      <td>4.0</td>\n",
       "      <td>Harley-Davidson</td>\n",
       "      <td>1200.0</td>\n",
       "      <td>exotic</td>\n",
       "    </tr>\n",
       "    <tr>\n",
       "      <th>8591</th>\n",
       "      <td>Yamaha YZF-R1 1000cc</td>\n",
       "      <td>1450000.0</td>\n",
       "      <td>Mumbai</td>\n",
       "      <td>340.0</td>\n",
       "      <td>First Owner</td>\n",
       "      <td>3.0</td>\n",
       "      <td>Yamaha</td>\n",
       "      <td>1000.0</td>\n",
       "      <td>exotic</td>\n",
       "    </tr>\n",
       "    <tr>\n",
       "      <th>8637</th>\n",
       "      <td>Honda CBR1000RR Fireblade</td>\n",
       "      <td>799000.0</td>\n",
       "      <td>Delhi</td>\n",
       "      <td>15000.0</td>\n",
       "      <td>First Owner</td>\n",
       "      <td>11.0</td>\n",
       "      <td>Honda</td>\n",
       "      <td>1000.0</td>\n",
       "      <td>exotic</td>\n",
       "    </tr>\n",
       "    <tr>\n",
       "      <th>8859</th>\n",
       "      <td>Kawasaki Z800</td>\n",
       "      <td>750000.0</td>\n",
       "      <td>Trivandrum</td>\n",
       "      <td>7500.0</td>\n",
       "      <td>First Owner</td>\n",
       "      <td>5.0</td>\n",
       "      <td>Kawasaki</td>\n",
       "      <td>800.0</td>\n",
       "      <td>exotic</td>\n",
       "    </tr>\n",
       "  </tbody>\n",
       "</table>\n",
       "<p>76 rows × 9 columns</p>\n",
       "</div>"
      ],
      "text/plain": [
       "                          bike_name      price        city  kms_driven  \\\n",
       "61                    Kawasaki Z900   935000.0    Bagalkot      2500.0   \n",
       "92    Ducati Scrambler 1100 Special  1350000.0      Mumbai       190.0   \n",
       "93        Triumph Street Triple 765   790000.0      Mumbai     19000.0   \n",
       "124        Ducati 1299 Superleggera   800000.0      Mumbai         3.0   \n",
       "167          Suzuki Hayabusa 1300cc   950000.0     Chennai       312.0   \n",
       "...                             ...        ...         ...         ...   \n",
       "8454    Harley-Davidson 1200 Custom   780000.0  Tiruvallur     13000.0   \n",
       "8495    Harley-Davidson 1200 Custom   780000.0  Tiruvallur     13000.0   \n",
       "8591           Yamaha YZF-R1 1000cc  1450000.0      Mumbai       340.0   \n",
       "8637      Honda CBR1000RR Fireblade   799000.0       Delhi     15000.0   \n",
       "8859                  Kawasaki Z800   750000.0  Trivandrum      7500.0   \n",
       "\n",
       "            owner   age            brand      CC price range  \n",
       "61    First Owner   2.0         Kawasaki   900.0      exotic  \n",
       "92    First Owner   1.0           Ducati  1100.0      exotic  \n",
       "93    First Owner   3.0          Triumph   765.0      exotic  \n",
       "124   First Owner   3.0           Ducati  1299.0      exotic  \n",
       "167   First Owner   3.0           Suzuki  1300.0      exotic  \n",
       "...           ...   ...              ...     ...         ...  \n",
       "8454  First Owner   4.0  Harley-Davidson  1200.0      exotic  \n",
       "8495  First Owner   4.0  Harley-Davidson  1200.0      exotic  \n",
       "8591  First Owner   3.0           Yamaha  1000.0      exotic  \n",
       "8637  First Owner  11.0            Honda  1000.0      exotic  \n",
       "8859  First Owner   5.0         Kawasaki   800.0      exotic  \n",
       "\n",
       "[76 rows x 9 columns]"
      ]
     },
     "execution_count": 50,
     "metadata": {},
     "output_type": "execute_result"
    }
   ],
   "source": [
    "ub[ub[\"price range\"]== \"exotic\"]"
   ]
  },
  {
   "cell_type": "code",
   "execution_count": 51,
   "id": "72e5200d",
   "metadata": {},
   "outputs": [
    {
     "data": {
      "text/html": [
       "<div>\n",
       "<style scoped>\n",
       "    .dataframe tbody tr th:only-of-type {\n",
       "        vertical-align: middle;\n",
       "    }\n",
       "\n",
       "    .dataframe tbody tr th {\n",
       "        vertical-align: top;\n",
       "    }\n",
       "\n",
       "    .dataframe thead th {\n",
       "        text-align: right;\n",
       "    }\n",
       "</style>\n",
       "<table border=\"1\" class=\"dataframe\">\n",
       "  <thead>\n",
       "    <tr style=\"text-align: right;\">\n",
       "      <th></th>\n",
       "      <th>bike_name</th>\n",
       "      <th>price</th>\n",
       "      <th>city</th>\n",
       "      <th>kms_driven</th>\n",
       "      <th>owner</th>\n",
       "      <th>age</th>\n",
       "      <th>brand</th>\n",
       "      <th>CC</th>\n",
       "      <th>price range</th>\n",
       "    </tr>\n",
       "  </thead>\n",
       "  <tbody>\n",
       "    <tr>\n",
       "      <th>4903</th>\n",
       "      <td>Ducati Diavel 1200cc</td>\n",
       "      <td>1100000.0</td>\n",
       "      <td>Ghaziabad</td>\n",
       "      <td>2510.0</td>\n",
       "      <td>First Owner</td>\n",
       "      <td>3.0</td>\n",
       "      <td>Ducati</td>\n",
       "      <td>1200.0</td>\n",
       "      <td>exotic</td>\n",
       "    </tr>\n",
       "  </tbody>\n",
       "</table>\n",
       "</div>"
      ],
      "text/plain": [
       "                 bike_name      price       city  kms_driven        owner  \\\n",
       "4903  Ducati Diavel 1200cc  1100000.0  Ghaziabad      2510.0  First Owner   \n",
       "\n",
       "      age   brand      CC price range  \n",
       "4903  3.0  Ducati  1200.0      exotic  "
      ]
     },
     "execution_count": 51,
     "metadata": {},
     "output_type": "execute_result"
    }
   ],
   "source": [
    "ub[(ub[\"price range\"]== \"exotic\") & (ub[\"city\"]==\"Ghaziabad\")]"
   ]
  },
  {
   "cell_type": "code",
   "execution_count": 52,
   "id": "8e69bef8",
   "metadata": {},
   "outputs": [
    {
     "data": {
      "text/html": [
       "<div>\n",
       "<style scoped>\n",
       "    .dataframe tbody tr th:only-of-type {\n",
       "        vertical-align: middle;\n",
       "    }\n",
       "\n",
       "    .dataframe tbody tr th {\n",
       "        vertical-align: top;\n",
       "    }\n",
       "\n",
       "    .dataframe thead th {\n",
       "        text-align: right;\n",
       "    }\n",
       "</style>\n",
       "<table border=\"1\" class=\"dataframe\">\n",
       "  <thead>\n",
       "    <tr style=\"text-align: right;\">\n",
       "      <th></th>\n",
       "      <th>bike_name</th>\n",
       "      <th>price</th>\n",
       "      <th>city</th>\n",
       "      <th>kms_driven</th>\n",
       "      <th>owner</th>\n",
       "      <th>age</th>\n",
       "      <th>brand</th>\n",
       "      <th>CC</th>\n",
       "      <th>price range</th>\n",
       "    </tr>\n",
       "  </thead>\n",
       "  <tbody>\n",
       "    <tr>\n",
       "      <th>92</th>\n",
       "      <td>Ducati Scrambler 1100 Special</td>\n",
       "      <td>1350000.0</td>\n",
       "      <td>Mumbai</td>\n",
       "      <td>190.0</td>\n",
       "      <td>First Owner</td>\n",
       "      <td>1.0</td>\n",
       "      <td>Ducati</td>\n",
       "      <td>1100.0</td>\n",
       "      <td>exotic</td>\n",
       "    </tr>\n",
       "    <tr>\n",
       "      <th>93</th>\n",
       "      <td>Triumph Street Triple 765</td>\n",
       "      <td>790000.0</td>\n",
       "      <td>Mumbai</td>\n",
       "      <td>19000.0</td>\n",
       "      <td>First Owner</td>\n",
       "      <td>3.0</td>\n",
       "      <td>Triumph</td>\n",
       "      <td>765.0</td>\n",
       "      <td>exotic</td>\n",
       "    </tr>\n",
       "    <tr>\n",
       "      <th>124</th>\n",
       "      <td>Ducati 1299 Superleggera</td>\n",
       "      <td>800000.0</td>\n",
       "      <td>Mumbai</td>\n",
       "      <td>3.0</td>\n",
       "      <td>First Owner</td>\n",
       "      <td>3.0</td>\n",
       "      <td>Ducati</td>\n",
       "      <td>1299.0</td>\n",
       "      <td>exotic</td>\n",
       "    </tr>\n",
       "    <tr>\n",
       "      <th>2300</th>\n",
       "      <td>Suzuki Hayabusa 1300cc</td>\n",
       "      <td>950000.0</td>\n",
       "      <td>Mumbai</td>\n",
       "      <td>312.0</td>\n",
       "      <td>First Owner</td>\n",
       "      <td>8.0</td>\n",
       "      <td>Suzuki</td>\n",
       "      <td>1300.0</td>\n",
       "      <td>exotic</td>\n",
       "    </tr>\n",
       "    <tr>\n",
       "      <th>8401</th>\n",
       "      <td>Kawasaki Z1000</td>\n",
       "      <td>1100000.0</td>\n",
       "      <td>Mumbai</td>\n",
       "      <td>6000.0</td>\n",
       "      <td>First Owner</td>\n",
       "      <td>7.0</td>\n",
       "      <td>Kawasaki</td>\n",
       "      <td>1000.0</td>\n",
       "      <td>exotic</td>\n",
       "    </tr>\n",
       "    <tr>\n",
       "      <th>8591</th>\n",
       "      <td>Yamaha YZF-R1 1000cc</td>\n",
       "      <td>1450000.0</td>\n",
       "      <td>Mumbai</td>\n",
       "      <td>340.0</td>\n",
       "      <td>First Owner</td>\n",
       "      <td>3.0</td>\n",
       "      <td>Yamaha</td>\n",
       "      <td>1000.0</td>\n",
       "      <td>exotic</td>\n",
       "    </tr>\n",
       "  </tbody>\n",
       "</table>\n",
       "</div>"
      ],
      "text/plain": [
       "                          bike_name      price    city  kms_driven  \\\n",
       "92    Ducati Scrambler 1100 Special  1350000.0  Mumbai       190.0   \n",
       "93        Triumph Street Triple 765   790000.0  Mumbai     19000.0   \n",
       "124        Ducati 1299 Superleggera   800000.0  Mumbai         3.0   \n",
       "2300         Suzuki Hayabusa 1300cc   950000.0  Mumbai       312.0   \n",
       "8401                 Kawasaki Z1000  1100000.0  Mumbai      6000.0   \n",
       "8591           Yamaha YZF-R1 1000cc  1450000.0  Mumbai       340.0   \n",
       "\n",
       "            owner  age     brand      CC price range  \n",
       "92    First Owner  1.0    Ducati  1100.0      exotic  \n",
       "93    First Owner  3.0   Triumph   765.0      exotic  \n",
       "124   First Owner  3.0    Ducati  1299.0      exotic  \n",
       "2300  First Owner  8.0    Suzuki  1300.0      exotic  \n",
       "8401  First Owner  7.0  Kawasaki  1000.0      exotic  \n",
       "8591  First Owner  3.0    Yamaha  1000.0      exotic  "
      ]
     },
     "execution_count": 52,
     "metadata": {},
     "output_type": "execute_result"
    }
   ],
   "source": [
    "ub[(ub[\"price range\"]== \"exotic\") & (ub[\"city\"]== \"Mumbai\")]"
   ]
  },
  {
   "cell_type": "code",
   "execution_count": 53,
   "id": "4a45a019",
   "metadata": {},
   "outputs": [],
   "source": [
    "exotics= ub[ub[\"price range\"]== \"exotic\"]"
   ]
  },
  {
   "cell_type": "code",
   "execution_count": 54,
   "id": "3be0a7ec",
   "metadata": {},
   "outputs": [
    {
     "data": {
      "text/html": [
       "<div>\n",
       "<style scoped>\n",
       "    .dataframe tbody tr th:only-of-type {\n",
       "        vertical-align: middle;\n",
       "    }\n",
       "\n",
       "    .dataframe tbody tr th {\n",
       "        vertical-align: top;\n",
       "    }\n",
       "\n",
       "    .dataframe thead th {\n",
       "        text-align: right;\n",
       "    }\n",
       "</style>\n",
       "<table border=\"1\" class=\"dataframe\">\n",
       "  <thead>\n",
       "    <tr style=\"text-align: right;\">\n",
       "      <th></th>\n",
       "      <th>bike_name</th>\n",
       "      <th>price</th>\n",
       "      <th>city</th>\n",
       "      <th>kms_driven</th>\n",
       "      <th>owner</th>\n",
       "      <th>age</th>\n",
       "      <th>brand</th>\n",
       "      <th>CC</th>\n",
       "      <th>price range</th>\n",
       "    </tr>\n",
       "  </thead>\n",
       "  <tbody>\n",
       "    <tr>\n",
       "      <th>61</th>\n",
       "      <td>Kawasaki Z900</td>\n",
       "      <td>935000.0</td>\n",
       "      <td>Bagalkot</td>\n",
       "      <td>2500.0</td>\n",
       "      <td>First Owner</td>\n",
       "      <td>2.0</td>\n",
       "      <td>Kawasaki</td>\n",
       "      <td>900.0</td>\n",
       "      <td>exotic</td>\n",
       "    </tr>\n",
       "    <tr>\n",
       "      <th>92</th>\n",
       "      <td>Ducati Scrambler 1100 Special</td>\n",
       "      <td>1350000.0</td>\n",
       "      <td>Mumbai</td>\n",
       "      <td>190.0</td>\n",
       "      <td>First Owner</td>\n",
       "      <td>1.0</td>\n",
       "      <td>Ducati</td>\n",
       "      <td>1100.0</td>\n",
       "      <td>exotic</td>\n",
       "    </tr>\n",
       "    <tr>\n",
       "      <th>93</th>\n",
       "      <td>Triumph Street Triple 765</td>\n",
       "      <td>790000.0</td>\n",
       "      <td>Mumbai</td>\n",
       "      <td>19000.0</td>\n",
       "      <td>First Owner</td>\n",
       "      <td>3.0</td>\n",
       "      <td>Triumph</td>\n",
       "      <td>765.0</td>\n",
       "      <td>exotic</td>\n",
       "    </tr>\n",
       "    <tr>\n",
       "      <th>124</th>\n",
       "      <td>Ducati 1299 Superleggera</td>\n",
       "      <td>800000.0</td>\n",
       "      <td>Mumbai</td>\n",
       "      <td>3.0</td>\n",
       "      <td>First Owner</td>\n",
       "      <td>3.0</td>\n",
       "      <td>Ducati</td>\n",
       "      <td>1299.0</td>\n",
       "      <td>exotic</td>\n",
       "    </tr>\n",
       "    <tr>\n",
       "      <th>167</th>\n",
       "      <td>Suzuki Hayabusa 1300cc</td>\n",
       "      <td>950000.0</td>\n",
       "      <td>Chennai</td>\n",
       "      <td>312.0</td>\n",
       "      <td>First Owner</td>\n",
       "      <td>3.0</td>\n",
       "      <td>Suzuki</td>\n",
       "      <td>1300.0</td>\n",
       "      <td>exotic</td>\n",
       "    </tr>\n",
       "  </tbody>\n",
       "</table>\n",
       "</div>"
      ],
      "text/plain": [
       "                         bike_name      price      city  kms_driven  \\\n",
       "61                   Kawasaki Z900   935000.0  Bagalkot      2500.0   \n",
       "92   Ducati Scrambler 1100 Special  1350000.0    Mumbai       190.0   \n",
       "93       Triumph Street Triple 765   790000.0    Mumbai     19000.0   \n",
       "124       Ducati 1299 Superleggera   800000.0    Mumbai         3.0   \n",
       "167         Suzuki Hayabusa 1300cc   950000.0   Chennai       312.0   \n",
       "\n",
       "           owner  age     brand      CC price range  \n",
       "61   First Owner  2.0  Kawasaki   900.0      exotic  \n",
       "92   First Owner  1.0    Ducati  1100.0      exotic  \n",
       "93   First Owner  3.0   Triumph   765.0      exotic  \n",
       "124  First Owner  3.0    Ducati  1299.0      exotic  \n",
       "167  First Owner  3.0    Suzuki  1300.0      exotic  "
      ]
     },
     "execution_count": 54,
     "metadata": {},
     "output_type": "execute_result"
    }
   ],
   "source": [
    "exotics.head()"
   ]
  },
  {
   "cell_type": "code",
   "execution_count": 55,
   "id": "ae54236d",
   "metadata": {},
   "outputs": [
    {
     "data": {
      "text/plain": [
       "(76, 9)"
      ]
     },
     "execution_count": 55,
     "metadata": {},
     "output_type": "execute_result"
    }
   ],
   "source": [
    "exotics.shape"
   ]
  },
  {
   "cell_type": "code",
   "execution_count": 56,
   "id": "b1a8bb7a",
   "metadata": {},
   "outputs": [
    {
     "data": {
      "text/plain": [
       "Delhi         26\n",
       "Bangalore      6\n",
       "Mumbai         6\n",
       "Pune           4\n",
       "Chennai        4\n",
       "Gurgaon        3\n",
       "Hyderabad      3\n",
       "Udaipur        2\n",
       "Trivandrum     2\n",
       "Hubli          2\n",
       "Berhampur      2\n",
       "Tiruvallur     2\n",
       "Ludhiana       2\n",
       "Alibag         2\n",
       "Jaipur         1\n",
       "Koppal         1\n",
       "Varanasi       1\n",
       "Chandrapur     1\n",
       "Guwahati       1\n",
       "Ghaziabad      1\n",
       "Rajkot         1\n",
       "Coimbatore     1\n",
       "Nagpur         1\n",
       "Bagalkot       1\n",
       "Name: city, dtype: int64"
      ]
     },
     "execution_count": 56,
     "metadata": {},
     "output_type": "execute_result"
    }
   ],
   "source": [
    "exotics.city.value_counts()"
   ]
  },
  {
   "cell_type": "code",
   "execution_count": 57,
   "id": "d4fe81a5",
   "metadata": {},
   "outputs": [
    {
     "data": {
      "text/plain": [
       "<AxesSubplot:ylabel='price range'>"
      ]
     },
     "execution_count": 57,
     "metadata": {},
     "output_type": "execute_result"
    },
    {
     "data": {
      "image/png": "[encoded data removed]",
      "text/plain": [
       "<Figure size 1080x360 with 1 Axes>"
      ]
     },
     "metadata": {},
     "output_type": "display_data"
    }
   ],
   "source": [
    "plt.rcParams[\"figure.figsize\"]= (15,5)\n",
    "ub[\"price range\"].value_counts().plot.pie(legend= True, autopct= \"%.1f%%\")\n"
   ]
  },
  {
   "cell_type": "code",
   "execution_count": 58,
   "id": "b87fc573",
   "metadata": {},
   "outputs": [
    {
     "data": {
      "text/plain": [
       "<AxesSubplot:>"
      ]
     },
     "execution_count": 58,
     "metadata": {},
     "output_type": "execute_result"
    },
    {
     "data": {
      "image/png": "[encoded data removed]",
      "text/plain": [
       "<Figure size 1080x360 with 1 Axes>"
      ]
     },
     "metadata": {
      "needs_background": "light"
     },
     "output_type": "display_data"
    }
   ],
   "source": [
    "#a box plot to visualize the mean median distribution of the price\n",
    "ub[\"price\"].plot.box()"
   ]
  },
  {
   "cell_type": "code",
   "execution_count": 59,
   "id": "cf503e1d",
   "metadata": {},
   "outputs": [
    {
     "data": {
      "text/plain": [
       "<AxesSubplot:>"
      ]
     },
     "execution_count": 59,
     "metadata": {},
     "output_type": "execute_result"
    },
    {
     "data": {
      "image/png": "[encoded data removed]",
      "text/plain": [
       "<Figure size 1080x360 with 1 Axes>"
      ]
     },
     "metadata": {
      "needs_background": "light"
     },
     "output_type": "display_data"
    }
   ],
   "source": [
    "# a box plot distribution of age for mean median and quartiles\n",
    "ub[\"age\"].plot.box()"
   ]
  },
  {
   "cell_type": "code",
   "execution_count": 61,
   "id": "4f098c2f",
   "metadata": {},
   "outputs": [
    {
     "data": {
      "text/html": [
       "<div>\n",
       "<style scoped>\n",
       "    .dataframe tbody tr th:only-of-type {\n",
       "        vertical-align: middle;\n",
       "    }\n",
       "\n",
       "    .dataframe tbody tr th {\n",
       "        vertical-align: top;\n",
       "    }\n",
       "\n",
       "    .dataframe thead th {\n",
       "        text-align: right;\n",
       "    }\n",
       "</style>\n",
       "<table border=\"1\" class=\"dataframe\">\n",
       "  <thead>\n",
       "    <tr style=\"text-align: right;\">\n",
       "      <th></th>\n",
       "      <th>bike_name</th>\n",
       "      <th>price</th>\n",
       "      <th>city</th>\n",
       "      <th>kms_driven</th>\n",
       "      <th>owner</th>\n",
       "      <th>age</th>\n",
       "      <th>brand</th>\n",
       "      <th>CC</th>\n",
       "      <th>price range</th>\n",
       "    </tr>\n",
       "  </thead>\n",
       "  <tbody>\n",
       "    <tr>\n",
       "      <th>6689</th>\n",
       "      <td>Royal Enfield‎ Bullet 350cc</td>\n",
       "      <td>70000.0</td>\n",
       "      <td>Delhi</td>\n",
       "      <td>32000.0</td>\n",
       "      <td>Second Owner</td>\n",
       "      <td>63.0</td>\n",
       "      <td>Royal Enfield</td>\n",
       "      <td>350.0</td>\n",
       "      <td>cheap</td>\n",
       "    </tr>\n",
       "    <tr>\n",
       "      <th>6818</th>\n",
       "      <td>Royal Enfield‎ Bullet 350cc</td>\n",
       "      <td>70000.0</td>\n",
       "      <td>Delhi</td>\n",
       "      <td>32000.0</td>\n",
       "      <td>Second Owner</td>\n",
       "      <td>63.0</td>\n",
       "      <td>Royal Enfield</td>\n",
       "      <td>350.0</td>\n",
       "      <td>cheap</td>\n",
       "    </tr>\n",
       "  </tbody>\n",
       "</table>\n",
       "</div>"
      ],
      "text/plain": [
       "                        bike_name    price   city  kms_driven         owner  \\\n",
       "6689  Royal Enfield‎ Bullet 350cc  70000.0  Delhi     32000.0  Second Owner   \n",
       "6818  Royal Enfield‎ Bullet 350cc  70000.0  Delhi     32000.0  Second Owner   \n",
       "\n",
       "       age          brand     CC price range  \n",
       "6689  63.0  Royal Enfield  350.0       cheap  \n",
       "6818  63.0  Royal Enfield  350.0       cheap  "
      ]
     },
     "execution_count": 61,
     "metadata": {},
     "output_type": "execute_result"
    }
   ],
   "source": [
    "ub[ub[\"age\"]> 60]"
   ]
  },
  {
   "cell_type": "code",
   "execution_count": 63,
   "id": "606f51d3",
   "metadata": {},
   "outputs": [
    {
     "data": {
      "text/plain": [
       "<AxesSubplot:>"
      ]
     },
     "execution_count": 63,
     "metadata": {},
     "output_type": "execute_result"
    },
    {
     "data": {
      "image/png": "[encoded data removed]",
      "text/plain": [
       "<Figure size 1080x360 with 1 Axes>"
      ]
     },
     "metadata": {
      "needs_background": "light"
     },
     "output_type": "display_data"
    }
   ],
   "source": [
    "#box plot to show distribution of mean and mode for kms driven\n",
    "ub[\"kms_driven\"].plot.box()"
   ]
  },
  {
   "cell_type": "code",
   "execution_count": 64,
   "id": "e698924b",
   "metadata": {},
   "outputs": [
    {
     "data": {
      "text/html": [
       "<div>\n",
       "<style scoped>\n",
       "    .dataframe tbody tr th:only-of-type {\n",
       "        vertical-align: middle;\n",
       "    }\n",
       "\n",
       "    .dataframe tbody tr th {\n",
       "        vertical-align: top;\n",
       "    }\n",
       "\n",
       "    .dataframe thead th {\n",
       "        text-align: right;\n",
       "    }\n",
       "</style>\n",
       "<table border=\"1\" class=\"dataframe\">\n",
       "  <thead>\n",
       "    <tr style=\"text-align: right;\">\n",
       "      <th></th>\n",
       "      <th>price</th>\n",
       "      <th>kms_driven</th>\n",
       "      <th>age</th>\n",
       "      <th>CC</th>\n",
       "    </tr>\n",
       "  </thead>\n",
       "  <tbody>\n",
       "    <tr>\n",
       "      <th>count</th>\n",
       "      <td>7.600000e+01</td>\n",
       "      <td>76.000000</td>\n",
       "      <td>76.000000</td>\n",
       "      <td>76.000000</td>\n",
       "    </tr>\n",
       "    <tr>\n",
       "      <th>mean</th>\n",
       "      <td>1.034595e+06</td>\n",
       "      <td>7852.381579</td>\n",
       "      <td>4.263158</td>\n",
       "      <td>990.842105</td>\n",
       "    </tr>\n",
       "    <tr>\n",
       "      <th>std</th>\n",
       "      <td>2.804740e+05</td>\n",
       "      <td>7345.326002</td>\n",
       "      <td>2.061510</td>\n",
       "      <td>253.156028</td>\n",
       "    </tr>\n",
       "    <tr>\n",
       "      <th>min</th>\n",
       "      <td>7.100000e+05</td>\n",
       "      <td>3.000000</td>\n",
       "      <td>1.000000</td>\n",
       "      <td>107.000000</td>\n",
       "    </tr>\n",
       "    <tr>\n",
       "      <th>25%</th>\n",
       "      <td>7.999998e+05</td>\n",
       "      <td>2000.000000</td>\n",
       "      <td>3.000000</td>\n",
       "      <td>800.000000</td>\n",
       "    </tr>\n",
       "    <tr>\n",
       "      <th>50%</th>\n",
       "      <td>9.500000e+05</td>\n",
       "      <td>5225.000000</td>\n",
       "      <td>4.000000</td>\n",
       "      <td>1000.000000</td>\n",
       "    </tr>\n",
       "    <tr>\n",
       "      <th>75%</th>\n",
       "      <td>1.227500e+06</td>\n",
       "      <td>13000.000000</td>\n",
       "      <td>5.000000</td>\n",
       "      <td>1200.000000</td>\n",
       "    </tr>\n",
       "    <tr>\n",
       "      <th>max</th>\n",
       "      <td>1.900000e+06</td>\n",
       "      <td>31500.000000</td>\n",
       "      <td>12.000000</td>\n",
       "      <td>1800.000000</td>\n",
       "    </tr>\n",
       "  </tbody>\n",
       "</table>\n",
       "</div>"
      ],
      "text/plain": [
       "              price    kms_driven        age           CC\n",
       "count  7.600000e+01     76.000000  76.000000    76.000000\n",
       "mean   1.034595e+06   7852.381579   4.263158   990.842105\n",
       "std    2.804740e+05   7345.326002   2.061510   253.156028\n",
       "min    7.100000e+05      3.000000   1.000000   107.000000\n",
       "25%    7.999998e+05   2000.000000   3.000000   800.000000\n",
       "50%    9.500000e+05   5225.000000   4.000000  1000.000000\n",
       "75%    1.227500e+06  13000.000000   5.000000  1200.000000\n",
       "max    1.900000e+06  31500.000000  12.000000  1800.000000"
      ]
     },
     "execution_count": 64,
     "metadata": {},
     "output_type": "execute_result"
    }
   ],
   "source": [
    "exotics.describe()"
   ]
  },
  {
   "cell_type": "code",
   "execution_count": 65,
   "id": "982d9428",
   "metadata": {},
   "outputs": [
    {
     "data": {
      "text/html": [
       "<div>\n",
       "<style scoped>\n",
       "    .dataframe tbody tr th:only-of-type {\n",
       "        vertical-align: middle;\n",
       "    }\n",
       "\n",
       "    .dataframe tbody tr th {\n",
       "        vertical-align: top;\n",
       "    }\n",
       "\n",
       "    .dataframe thead th {\n",
       "        text-align: right;\n",
       "    }\n",
       "</style>\n",
       "<table border=\"1\" class=\"dataframe\">\n",
       "  <thead>\n",
       "    <tr style=\"text-align: right;\">\n",
       "      <th></th>\n",
       "      <th>price</th>\n",
       "      <th>kms_driven</th>\n",
       "      <th>age</th>\n",
       "      <th>CC</th>\n",
       "    </tr>\n",
       "  </thead>\n",
       "  <tbody>\n",
       "    <tr>\n",
       "      <th>count</th>\n",
       "      <td>2.120000e+03</td>\n",
       "      <td>2120.000000</td>\n",
       "      <td>2120.000000</td>\n",
       "      <td>2120.000000</td>\n",
       "    </tr>\n",
       "    <tr>\n",
       "      <th>mean</th>\n",
       "      <td>2.934513e+05</td>\n",
       "      <td>12914.191981</td>\n",
       "      <td>4.491981</td>\n",
       "      <td>582.350000</td>\n",
       "    </tr>\n",
       "    <tr>\n",
       "      <th>std</th>\n",
       "      <td>2.190145e+05</td>\n",
       "      <td>11720.276652</td>\n",
       "      <td>1.501904</td>\n",
       "      <td>187.693285</td>\n",
       "    </tr>\n",
       "    <tr>\n",
       "      <th>min</th>\n",
       "      <td>6.500000e+04</td>\n",
       "      <td>3.000000</td>\n",
       "      <td>1.000000</td>\n",
       "      <td>400.000000</td>\n",
       "    </tr>\n",
       "    <tr>\n",
       "      <th>25%</th>\n",
       "      <td>1.390000e+05</td>\n",
       "      <td>3430.000000</td>\n",
       "      <td>4.000000</td>\n",
       "      <td>400.000000</td>\n",
       "    </tr>\n",
       "    <tr>\n",
       "      <th>50%</th>\n",
       "      <td>1.504000e+05</td>\n",
       "      <td>10000.000000</td>\n",
       "      <td>4.000000</td>\n",
       "      <td>500.000000</td>\n",
       "    </tr>\n",
       "    <tr>\n",
       "      <th>75%</th>\n",
       "      <td>4.500000e+05</td>\n",
       "      <td>21300.000000</td>\n",
       "      <td>4.000000</td>\n",
       "      <td>750.000000</td>\n",
       "    </tr>\n",
       "    <tr>\n",
       "      <th>max</th>\n",
       "      <td>1.900000e+06</td>\n",
       "      <td>194992.000000</td>\n",
       "      <td>14.000000</td>\n",
       "      <td>1800.000000</td>\n",
       "    </tr>\n",
       "  </tbody>\n",
       "</table>\n",
       "</div>"
      ],
      "text/plain": [
       "              price     kms_driven          age           CC\n",
       "count  2.120000e+03    2120.000000  2120.000000  2120.000000\n",
       "mean   2.934513e+05   12914.191981     4.491981   582.350000\n",
       "std    2.190145e+05   11720.276652     1.501904   187.693285\n",
       "min    6.500000e+04       3.000000     1.000000   400.000000\n",
       "25%    1.390000e+05    3430.000000     4.000000   400.000000\n",
       "50%    1.504000e+05   10000.000000     4.000000   500.000000\n",
       "75%    4.500000e+05   21300.000000     4.000000   750.000000\n",
       "max    1.900000e+06  194992.000000    14.000000  1800.000000"
      ]
     },
     "execution_count": 65,
     "metadata": {},
     "output_type": "execute_result"
    }
   ],
   "source": [
    "higher_CC_bikes.describe()"
   ]
  },
  {
   "cell_type": "code",
   "execution_count": 69,
   "id": "cbbee9a6",
   "metadata": {},
   "outputs": [
    {
     "data": {
      "image/png": "[encoded data removed]",
      "text/plain": [
       "<Figure size 1080x360 with 1 Axes>"
      ]
     },
     "metadata": {
      "needs_background": "light"
     },
     "output_type": "display_data"
    }
   ],
   "source": [
    "higher_CC_bikes[\"kms_driven\"].plot.box();"
   ]
  },
  {
   "cell_type": "code",
   "execution_count": 71,
   "id": "8e3354a7",
   "metadata": {},
   "outputs": [
    {
     "data": {
      "text/plain": [
       "<AxesSubplot:>"
      ]
     },
     "execution_count": 71,
     "metadata": {},
     "output_type": "execute_result"
    },
    {
     "data": {
      "image/png": "[encoded data removed]",
      "text/plain": [
       "<Figure size 1080x360 with 1 Axes>"
      ]
     },
     "metadata": {
      "needs_background": "light"
     },
     "output_type": "display_data"
    }
   ],
   "source": [
    "exotics[\"kms_driven\"].plot.box(legend= True)"
   ]
  },
  {
   "cell_type": "code",
   "execution_count": 74,
   "id": "b7ce2cab",
   "metadata": {},
   "outputs": [
    {
     "name": "stdout",
     "output_type": "stream",
     "text": [
      "Object `plot.scatter` not found.\n"
     ]
    }
   ],
   "source": [
    "?plot.scatter"
   ]
  },
  {
   "cell_type": "code",
   "execution_count": 75,
   "id": "047b2903",
   "metadata": {},
   "outputs": [
    {
     "data": {
      "text/plain": [
       "<AxesSubplot:xlabel='age', ylabel='price'>"
      ]
     },
     "execution_count": 75,
     "metadata": {},
     "output_type": "execute_result"
    },
    {
     "data": {
      "image/png": "[encoded data removed]",
      "text/plain": [
       "<Figure size 1080x360 with 1 Axes>"
      ]
     },
     "metadata": {
      "needs_background": "light"
     },
     "output_type": "display_data"
    }
   ],
   "source": [
    "ub.plot.scatter(x=\"age\", y=\"price\")"
   ]
  },
  {
   "cell_type": "code",
   "execution_count": 76,
   "id": "48acb50b",
   "metadata": {},
   "outputs": [
    {
     "data": {
      "text/plain": [
       "<AxesSubplot:xlabel='age', ylabel='price'>"
      ]
     },
     "execution_count": 76,
     "metadata": {},
     "output_type": "execute_result"
    },
    {
     "data": {
      "image/png": "[encoded data removed]",
      "text/plain": [
       "<Figure size 1080x360 with 1 Axes>"
      ]
     },
     "metadata": {
      "needs_background": "light"
     },
     "output_type": "display_data"
    }
   ],
   "source": [
    "exotics.plot.scatter(x=\"age\", y=\"price\")"
   ]
  },
  {
   "cell_type": "code",
   "execution_count": 78,
   "id": "9e87f0b4",
   "metadata": {},
   "outputs": [
    {
     "data": {
      "text/plain": [
       "<AxesSubplot:xlabel='age', ylabel='price'>"
      ]
     },
     "execution_count": 78,
     "metadata": {},
     "output_type": "execute_result"
    },
    {
     "data": {
      "image/png": "[encoded data removed]",
      "text/plain": [
       "<Figure size 1080x360 with 1 Axes>"
      ]
     },
     "metadata": {
      "needs_background": "light"
     },
     "output_type": "display_data"
    }
   ],
   "source": [
    "higher_CC_bikes.plot.scatter(x=\"age\", y= \"price\")"
   ]
  },
  {
   "cell_type": "code",
   "execution_count": 80,
   "id": "7468c316",
   "metadata": {},
   "outputs": [
    {
     "data": {
      "text/plain": [
       "<AxesSubplot:xlabel='price', ylabel='kms_driven'>"
      ]
     },
     "execution_count": 80,
     "metadata": {},
     "output_type": "execute_result"
    },
    {
     "data": {
      "image/png": "[encoded data removed]",
      "text/plain": [
       "<Figure size 1080x360 with 1 Axes>"
      ]
     },
     "metadata": {
      "needs_background": "light"
     },
     "output_type": "display_data"
    }
   ],
   "source": [
    "ub.plot.scatter(x=\"price\", y=\"kms_driven\")"
   ]
  },
  {
   "cell_type": "code",
   "execution_count": 81,
   "id": "58145a79",
   "metadata": {},
   "outputs": [
    {
     "data": {
      "text/plain": [
       "<AxesSubplot:xlabel='price', ylabel='kms_driven'>"
      ]
     },
     "execution_count": 81,
     "metadata": {},
     "output_type": "execute_result"
    },
    {
     "data": {
      "image/png": "[encoded data removed]",
      "text/plain": [
       "<Figure size 1080x360 with 1 Axes>"
      ]
     },
     "metadata": {
      "needs_background": "light"
     },
     "output_type": "display_data"
    }
   ],
   "source": [
    "higher_CC_bikes.plot.scatter(x= \"price\", y= \"kms_driven\")"
   ]
  },
  {
   "cell_type": "code",
   "execution_count": 82,
   "id": "fa9934da",
   "metadata": {},
   "outputs": [
    {
     "data": {
      "text/plain": [
       "<AxesSubplot:xlabel='price', ylabel='kms_driven'>"
      ]
     },
     "execution_count": 82,
     "metadata": {},
     "output_type": "execute_result"
    },
    {
     "data": {
      "image/png": "[encoded data removed]",
      "text/plain": [
       "<Figure size 1080x360 with 1 Axes>"
      ]
     },
     "metadata": {
      "needs_background": "light"
     },
     "output_type": "display_data"
    }
   ],
   "source": [
    "exotics.plot.scatter(x= \"price\", y=\"kms_driven\")"
   ]
  },
  {
   "cell_type": "code",
   "execution_count": 89,
   "id": "fa4f56ba",
   "metadata": {},
   "outputs": [
    {
     "data": {
      "text/html": [
       "<div>\n",
       "<style scoped>\n",
       "    .dataframe tbody tr th:only-of-type {\n",
       "        vertical-align: middle;\n",
       "    }\n",
       "\n",
       "    .dataframe tbody tr th {\n",
       "        vertical-align: top;\n",
       "    }\n",
       "\n",
       "    .dataframe thead th {\n",
       "        text-align: right;\n",
       "    }\n",
       "</style>\n",
       "<table border=\"1\" class=\"dataframe\">\n",
       "  <thead>\n",
       "    <tr style=\"text-align: right;\">\n",
       "      <th></th>\n",
       "      <th>bike_name</th>\n",
       "      <th>price</th>\n",
       "      <th>city</th>\n",
       "      <th>kms_driven</th>\n",
       "      <th>owner</th>\n",
       "      <th>age</th>\n",
       "      <th>brand</th>\n",
       "      <th>CC</th>\n",
       "      <th>price range</th>\n",
       "    </tr>\n",
       "  </thead>\n",
       "  <tbody>\n",
       "    <tr>\n",
       "      <th>0</th>\n",
       "      <td>TVS Star City Plus Dual Tone 110cc</td>\n",
       "      <td>35000.0</td>\n",
       "      <td>Ahmedabad</td>\n",
       "      <td>17654.0</td>\n",
       "      <td>First Owner</td>\n",
       "      <td>3.0</td>\n",
       "      <td>TVS</td>\n",
       "      <td>110.0</td>\n",
       "      <td>cheap</td>\n",
       "    </tr>\n",
       "    <tr>\n",
       "      <th>1</th>\n",
       "      <td>Royal Enfield Classic 350cc</td>\n",
       "      <td>119900.0</td>\n",
       "      <td>Delhi</td>\n",
       "      <td>11000.0</td>\n",
       "      <td>First Owner</td>\n",
       "      <td>4.0</td>\n",
       "      <td>Royal Enfield</td>\n",
       "      <td>350.0</td>\n",
       "      <td>mid_range</td>\n",
       "    </tr>\n",
       "    <tr>\n",
       "      <th>2</th>\n",
       "      <td>Triumph Daytona 675R</td>\n",
       "      <td>600000.0</td>\n",
       "      <td>Delhi</td>\n",
       "      <td>110.0</td>\n",
       "      <td>First Owner</td>\n",
       "      <td>8.0</td>\n",
       "      <td>Triumph</td>\n",
       "      <td>675.0</td>\n",
       "      <td>expensive</td>\n",
       "    </tr>\n",
       "    <tr>\n",
       "      <th>3</th>\n",
       "      <td>TVS Apache RTR 180cc</td>\n",
       "      <td>65000.0</td>\n",
       "      <td>Bangalore</td>\n",
       "      <td>16329.0</td>\n",
       "      <td>First Owner</td>\n",
       "      <td>4.0</td>\n",
       "      <td>TVS</td>\n",
       "      <td>180.0</td>\n",
       "      <td>cheap</td>\n",
       "    </tr>\n",
       "    <tr>\n",
       "      <th>4</th>\n",
       "      <td>Yamaha FZ S V 2.0 150cc-Ltd. Edition</td>\n",
       "      <td>80000.0</td>\n",
       "      <td>Bangalore</td>\n",
       "      <td>10000.0</td>\n",
       "      <td>First Owner</td>\n",
       "      <td>3.0</td>\n",
       "      <td>Yamaha</td>\n",
       "      <td>150.0</td>\n",
       "      <td>cheap</td>\n",
       "    </tr>\n",
       "  </tbody>\n",
       "</table>\n",
       "</div>"
      ],
      "text/plain": [
       "                              bike_name     price       city  kms_driven  \\\n",
       "0    TVS Star City Plus Dual Tone 110cc   35000.0  Ahmedabad     17654.0   \n",
       "1           Royal Enfield Classic 350cc  119900.0      Delhi     11000.0   \n",
       "2                  Triumph Daytona 675R  600000.0      Delhi       110.0   \n",
       "3                  TVS Apache RTR 180cc   65000.0  Bangalore     16329.0   \n",
       "4  Yamaha FZ S V 2.0 150cc-Ltd. Edition   80000.0  Bangalore     10000.0   \n",
       "\n",
       "         owner  age          brand     CC price range  \n",
       "0  First Owner  3.0            TVS  110.0       cheap  \n",
       "1  First Owner  4.0  Royal Enfield  350.0   mid_range  \n",
       "2  First Owner  8.0        Triumph  675.0   expensive  \n",
       "3  First Owner  4.0            TVS  180.0       cheap  \n",
       "4  First Owner  3.0         Yamaha  150.0       cheap  "
      ]
     },
     "execution_count": 89,
     "metadata": {},
     "output_type": "execute_result"
    }
   ],
   "source": [
    "ub.head()"
   ]
  },
  {
   "cell_type": "code",
   "execution_count": 91,
   "id": "b11ca7ed",
   "metadata": {},
   "outputs": [
    {
     "data": {
      "text/html": [
       "<div>\n",
       "<style scoped>\n",
       "    .dataframe tbody tr th:only-of-type {\n",
       "        vertical-align: middle;\n",
       "    }\n",
       "\n",
       "    .dataframe tbody tr th {\n",
       "        vertical-align: top;\n",
       "    }\n",
       "\n",
       "    .dataframe thead th {\n",
       "        text-align: right;\n",
       "    }\n",
       "</style>\n",
       "<table border=\"1\" class=\"dataframe\">\n",
       "  <thead>\n",
       "    <tr style=\"text-align: right;\">\n",
       "      <th></th>\n",
       "      <th>bike_name</th>\n",
       "      <th>price</th>\n",
       "      <th>city</th>\n",
       "      <th>kms_driven</th>\n",
       "      <th>owner</th>\n",
       "      <th>age</th>\n",
       "      <th>brand</th>\n",
       "      <th>CC</th>\n",
       "      <th>price range</th>\n",
       "    </tr>\n",
       "  </thead>\n",
       "  <tbody>\n",
       "    <tr>\n",
       "      <th>4</th>\n",
       "      <td>Yamaha FZ S V 2.0 150cc-Ltd. Edition</td>\n",
       "      <td>80000.0</td>\n",
       "      <td>Bangalore</td>\n",
       "      <td>10000.0</td>\n",
       "      <td>First Owner</td>\n",
       "      <td>3.0</td>\n",
       "      <td>Yamaha</td>\n",
       "      <td>150.0</td>\n",
       "      <td>cheap</td>\n",
       "    </tr>\n",
       "    <tr>\n",
       "      <th>5</th>\n",
       "      <td>Yamaha FZs 150cc</td>\n",
       "      <td>53499.0</td>\n",
       "      <td>Delhi</td>\n",
       "      <td>25000.0</td>\n",
       "      <td>First Owner</td>\n",
       "      <td>6.0</td>\n",
       "      <td>Yamaha</td>\n",
       "      <td>150.0</td>\n",
       "      <td>cheap</td>\n",
       "    </tr>\n",
       "    <tr>\n",
       "      <th>10</th>\n",
       "      <td>Yamaha YZF-R15 2.0 150cc</td>\n",
       "      <td>72000.0</td>\n",
       "      <td>Bangalore</td>\n",
       "      <td>20000.0</td>\n",
       "      <td>First Owner</td>\n",
       "      <td>7.0</td>\n",
       "      <td>Yamaha</td>\n",
       "      <td>150.0</td>\n",
       "      <td>cheap</td>\n",
       "    </tr>\n",
       "    <tr>\n",
       "      <th>11</th>\n",
       "      <td>Yamaha FZ25 250cc</td>\n",
       "      <td>95000.0</td>\n",
       "      <td>Bangalore</td>\n",
       "      <td>9665.0</td>\n",
       "      <td>First Owner</td>\n",
       "      <td>4.0</td>\n",
       "      <td>Yamaha</td>\n",
       "      <td>250.0</td>\n",
       "      <td>cheap</td>\n",
       "    </tr>\n",
       "    <tr>\n",
       "      <th>24</th>\n",
       "      <td>Yamaha FZ V 2.0 150cc</td>\n",
       "      <td>45000.0</td>\n",
       "      <td>Delhi</td>\n",
       "      <td>23000.0</td>\n",
       "      <td>First Owner</td>\n",
       "      <td>6.0</td>\n",
       "      <td>Yamaha</td>\n",
       "      <td>150.0</td>\n",
       "      <td>cheap</td>\n",
       "    </tr>\n",
       "    <tr>\n",
       "      <th>...</th>\n",
       "      <td>...</td>\n",
       "      <td>...</td>\n",
       "      <td>...</td>\n",
       "      <td>...</td>\n",
       "      <td>...</td>\n",
       "      <td>...</td>\n",
       "      <td>...</td>\n",
       "      <td>...</td>\n",
       "      <td>...</td>\n",
       "    </tr>\n",
       "    <tr>\n",
       "      <th>32610</th>\n",
       "      <td>Yamaha FZ 150cc</td>\n",
       "      <td>45000.0</td>\n",
       "      <td>Chennai</td>\n",
       "      <td>18742.0</td>\n",
       "      <td>First Owner</td>\n",
       "      <td>6.0</td>\n",
       "      <td>Yamaha</td>\n",
       "      <td>150.0</td>\n",
       "      <td>cheap</td>\n",
       "    </tr>\n",
       "    <tr>\n",
       "      <th>32612</th>\n",
       "      <td>Yamaha YZF-R15 2.0 150cc</td>\n",
       "      <td>55000.0</td>\n",
       "      <td>Rupnagar</td>\n",
       "      <td>27000.0</td>\n",
       "      <td>First Owner</td>\n",
       "      <td>9.0</td>\n",
       "      <td>Yamaha</td>\n",
       "      <td>150.0</td>\n",
       "      <td>cheap</td>\n",
       "    </tr>\n",
       "    <tr>\n",
       "      <th>32622</th>\n",
       "      <td>Yamaha Fazer 150cc</td>\n",
       "      <td>25000.0</td>\n",
       "      <td>Delhi</td>\n",
       "      <td>65000.0</td>\n",
       "      <td>First Owner</td>\n",
       "      <td>12.0</td>\n",
       "      <td>Yamaha</td>\n",
       "      <td>150.0</td>\n",
       "      <td>cheap</td>\n",
       "    </tr>\n",
       "    <tr>\n",
       "      <th>32631</th>\n",
       "      <td>Yamaha SZ-RR 150cc</td>\n",
       "      <td>20000.0</td>\n",
       "      <td>Kanchipuram</td>\n",
       "      <td>52000.0</td>\n",
       "      <td>First Owner</td>\n",
       "      <td>10.0</td>\n",
       "      <td>Yamaha</td>\n",
       "      <td>150.0</td>\n",
       "      <td>cheap</td>\n",
       "    </tr>\n",
       "    <tr>\n",
       "      <th>32638</th>\n",
       "      <td>Yamaha Fazer 25 250cc</td>\n",
       "      <td>123000.0</td>\n",
       "      <td>Kadapa</td>\n",
       "      <td>14500.0</td>\n",
       "      <td>First Owner</td>\n",
       "      <td>4.0</td>\n",
       "      <td>Yamaha</td>\n",
       "      <td>250.0</td>\n",
       "      <td>mid_range</td>\n",
       "    </tr>\n",
       "  </tbody>\n",
       "</table>\n",
       "<p>3916 rows × 9 columns</p>\n",
       "</div>"
      ],
      "text/plain": [
       "                                  bike_name     price         city  \\\n",
       "4      Yamaha FZ S V 2.0 150cc-Ltd. Edition   80000.0    Bangalore   \n",
       "5                          Yamaha FZs 150cc   53499.0        Delhi   \n",
       "10                 Yamaha YZF-R15 2.0 150cc   72000.0    Bangalore   \n",
       "11                        Yamaha FZ25 250cc   95000.0    Bangalore   \n",
       "24                    Yamaha FZ V 2.0 150cc   45000.0        Delhi   \n",
       "...                                     ...       ...          ...   \n",
       "32610                       Yamaha FZ 150cc   45000.0      Chennai   \n",
       "32612              Yamaha YZF-R15 2.0 150cc   55000.0     Rupnagar   \n",
       "32622                    Yamaha Fazer 150cc   25000.0        Delhi   \n",
       "32631                    Yamaha SZ-RR 150cc   20000.0  Kanchipuram   \n",
       "32638                 Yamaha Fazer 25 250cc  123000.0       Kadapa   \n",
       "\n",
       "       kms_driven        owner   age   brand     CC price range  \n",
       "4         10000.0  First Owner   3.0  Yamaha  150.0       cheap  \n",
       "5         25000.0  First Owner   6.0  Yamaha  150.0       cheap  \n",
       "10        20000.0  First Owner   7.0  Yamaha  150.0       cheap  \n",
       "11         9665.0  First Owner   4.0  Yamaha  250.0       cheap  \n",
       "24        23000.0  First Owner   6.0  Yamaha  150.0       cheap  \n",
       "...           ...          ...   ...     ...    ...         ...  \n",
       "32610     18742.0  First Owner   6.0  Yamaha  150.0       cheap  \n",
       "32612     27000.0  First Owner   9.0  Yamaha  150.0       cheap  \n",
       "32622     65000.0  First Owner  12.0  Yamaha  150.0       cheap  \n",
       "32631     52000.0  First Owner  10.0  Yamaha  150.0       cheap  \n",
       "32638     14500.0  First Owner   4.0  Yamaha  250.0   mid_range  \n",
       "\n",
       "[3916 rows x 9 columns]"
      ]
     },
     "execution_count": 91,
     "metadata": {},
     "output_type": "execute_result"
    }
   ],
   "source": [
    "ub[ub[\"brand\"]== \"Yamaha\"]"
   ]
  },
  {
   "cell_type": "code",
   "execution_count": 97,
   "id": "0410401a",
   "metadata": {},
   "outputs": [
    {
     "data": {
      "text/plain": [
       "<AxesSubplot:xlabel='price', ylabel='age'>"
      ]
     },
     "execution_count": 97,
     "metadata": {},
     "output_type": "execute_result"
    },
    {
     "data": {
      "image/png": "[encoded data removed]",
      "text/plain": [
       "<Figure size 1080x360 with 1 Axes>"
      ]
     },
     "metadata": {
      "needs_background": "light"
     },
     "output_type": "display_data"
    }
   ],
   "source": [
    "ub[(ub[\"brand\"]== \"Yamaha\") | (ub[\"brand\"]== \"Bajaj\")].plot.scatter(x=\"price\", y=\"age\")"
   ]
  },
  {
   "cell_type": "code",
   "execution_count": 99,
   "id": "db29991a",
   "metadata": {},
   "outputs": [
    {
     "data": {
      "text/plain": [
       "Bajaj              11213\n",
       "Hero                6368\n",
       "Royal Enfield       4178\n",
       "Yamaha              3916\n",
       "Honda               2108\n",
       "Suzuki              1464\n",
       "TVS                 1247\n",
       "KTM                 1077\n",
       "Harley-Davidson      737\n",
       "Kawasaki              79\n",
       "Hyosung               64\n",
       "Benelli               56\n",
       "Mahindra              55\n",
       "Triumph               26\n",
       "Ducati                22\n",
       "BMW                   16\n",
       "Jawa                  10\n",
       "MV                     4\n",
       "Indian                 3\n",
       "Ideal                  2\n",
       "Rajdoot                1\n",
       "LML                    1\n",
       "Yezdi                  1\n",
       "Name: brand, dtype: int64"
      ]
     },
     "execution_count": 99,
     "metadata": {},
     "output_type": "execute_result"
    }
   ],
   "source": [
    "ub[\"brand\"].value_counts()"
   ]
  },
  {
   "cell_type": "code",
   "execution_count": 116,
   "id": "932c4457",
   "metadata": {},
   "outputs": [],
   "source": [
    "foreign_brands=ub[~ub[\"brand\"].isin([\"Bajaj\", \"Hero\", \"Royal Enfield\", \"TVS\", \"Mahindra\", \"Rajdoot\", \"LML\", \"Yezdi\"])]"
   ]
  },
  {
   "cell_type": "code",
   "execution_count": 117,
   "id": "1f3ded1e",
   "metadata": {},
   "outputs": [
    {
     "data": {
      "text/html": [
       "<div>\n",
       "<style scoped>\n",
       "    .dataframe tbody tr th:only-of-type {\n",
       "        vertical-align: middle;\n",
       "    }\n",
       "\n",
       "    .dataframe tbody tr th {\n",
       "        vertical-align: top;\n",
       "    }\n",
       "\n",
       "    .dataframe thead th {\n",
       "        text-align: right;\n",
       "    }\n",
       "</style>\n",
       "<table border=\"1\" class=\"dataframe\">\n",
       "  <thead>\n",
       "    <tr style=\"text-align: right;\">\n",
       "      <th></th>\n",
       "      <th>bike_name</th>\n",
       "      <th>price</th>\n",
       "      <th>city</th>\n",
       "      <th>kms_driven</th>\n",
       "      <th>owner</th>\n",
       "      <th>age</th>\n",
       "      <th>brand</th>\n",
       "      <th>CC</th>\n",
       "      <th>price range</th>\n",
       "    </tr>\n",
       "  </thead>\n",
       "  <tbody>\n",
       "    <tr>\n",
       "      <th>2</th>\n",
       "      <td>Triumph Daytona 675R</td>\n",
       "      <td>600000.0</td>\n",
       "      <td>Delhi</td>\n",
       "      <td>110.0</td>\n",
       "      <td>First Owner</td>\n",
       "      <td>8.0</td>\n",
       "      <td>Triumph</td>\n",
       "      <td>675.0</td>\n",
       "      <td>expensive</td>\n",
       "    </tr>\n",
       "    <tr>\n",
       "      <th>4</th>\n",
       "      <td>Yamaha FZ S V 2.0 150cc-Ltd. Edition</td>\n",
       "      <td>80000.0</td>\n",
       "      <td>Bangalore</td>\n",
       "      <td>10000.0</td>\n",
       "      <td>First Owner</td>\n",
       "      <td>3.0</td>\n",
       "      <td>Yamaha</td>\n",
       "      <td>150.0</td>\n",
       "      <td>cheap</td>\n",
       "    </tr>\n",
       "    <tr>\n",
       "      <th>5</th>\n",
       "      <td>Yamaha FZs 150cc</td>\n",
       "      <td>53499.0</td>\n",
       "      <td>Delhi</td>\n",
       "      <td>25000.0</td>\n",
       "      <td>First Owner</td>\n",
       "      <td>6.0</td>\n",
       "      <td>Yamaha</td>\n",
       "      <td>150.0</td>\n",
       "      <td>cheap</td>\n",
       "    </tr>\n",
       "    <tr>\n",
       "      <th>6</th>\n",
       "      <td>Honda CB Hornet 160R  ABS DLX</td>\n",
       "      <td>85000.0</td>\n",
       "      <td>Delhi</td>\n",
       "      <td>8200.0</td>\n",
       "      <td>First Owner</td>\n",
       "      <td>3.0</td>\n",
       "      <td>Honda</td>\n",
       "      <td>160.0</td>\n",
       "      <td>cheap</td>\n",
       "    </tr>\n",
       "    <tr>\n",
       "      <th>10</th>\n",
       "      <td>Yamaha YZF-R15 2.0 150cc</td>\n",
       "      <td>72000.0</td>\n",
       "      <td>Bangalore</td>\n",
       "      <td>20000.0</td>\n",
       "      <td>First Owner</td>\n",
       "      <td>7.0</td>\n",
       "      <td>Yamaha</td>\n",
       "      <td>150.0</td>\n",
       "      <td>cheap</td>\n",
       "    </tr>\n",
       "  </tbody>\n",
       "</table>\n",
       "</div>"
      ],
      "text/plain": [
       "                               bike_name     price       city  kms_driven  \\\n",
       "2                   Triumph Daytona 675R  600000.0      Delhi       110.0   \n",
       "4   Yamaha FZ S V 2.0 150cc-Ltd. Edition   80000.0  Bangalore     10000.0   \n",
       "5                       Yamaha FZs 150cc   53499.0      Delhi     25000.0   \n",
       "6          Honda CB Hornet 160R  ABS DLX   85000.0      Delhi      8200.0   \n",
       "10              Yamaha YZF-R15 2.0 150cc   72000.0  Bangalore     20000.0   \n",
       "\n",
       "          owner  age    brand     CC price range  \n",
       "2   First Owner  8.0  Triumph  675.0   expensive  \n",
       "4   First Owner  3.0   Yamaha  150.0       cheap  \n",
       "5   First Owner  6.0   Yamaha  150.0       cheap  \n",
       "6   First Owner  3.0    Honda  160.0       cheap  \n",
       "10  First Owner  7.0   Yamaha  150.0       cheap  "
      ]
     },
     "execution_count": 117,
     "metadata": {},
     "output_type": "execute_result"
    }
   ],
   "source": [
    "foreign_brands.head()"
   ]
  },
  {
   "cell_type": "code",
   "execution_count": 118,
   "id": "5298cb5a",
   "metadata": {},
   "outputs": [],
   "source": [
    "domestic_brands= ub[ub[\"brand\"].isin([\"Bajaj\", \"Hero\", \"Royal Enfield\", \"TVS\", \"Mahindra\", \"Rajdoot\", \"LML\", \"Yezdi\"])]"
   ]
  },
  {
   "cell_type": "code",
   "execution_count": 120,
   "id": "f4882f22",
   "metadata": {},
   "outputs": [
    {
     "data": {
      "text/html": [
       "<div>\n",
       "<style scoped>\n",
       "    .dataframe tbody tr th:only-of-type {\n",
       "        vertical-align: middle;\n",
       "    }\n",
       "\n",
       "    .dataframe tbody tr th {\n",
       "        vertical-align: top;\n",
       "    }\n",
       "\n",
       "    .dataframe thead th {\n",
       "        text-align: right;\n",
       "    }\n",
       "</style>\n",
       "<table border=\"1\" class=\"dataframe\">\n",
       "  <thead>\n",
       "    <tr style=\"text-align: right;\">\n",
       "      <th></th>\n",
       "      <th>bike_name</th>\n",
       "      <th>price</th>\n",
       "      <th>city</th>\n",
       "      <th>kms_driven</th>\n",
       "      <th>owner</th>\n",
       "      <th>age</th>\n",
       "      <th>brand</th>\n",
       "      <th>CC</th>\n",
       "      <th>price range</th>\n",
       "    </tr>\n",
       "  </thead>\n",
       "  <tbody>\n",
       "    <tr>\n",
       "      <th>0</th>\n",
       "      <td>TVS Star City Plus Dual Tone 110cc</td>\n",
       "      <td>35000.0</td>\n",
       "      <td>Ahmedabad</td>\n",
       "      <td>17654.0</td>\n",
       "      <td>First Owner</td>\n",
       "      <td>3.0</td>\n",
       "      <td>TVS</td>\n",
       "      <td>110.0</td>\n",
       "      <td>cheap</td>\n",
       "    </tr>\n",
       "    <tr>\n",
       "      <th>1</th>\n",
       "      <td>Royal Enfield Classic 350cc</td>\n",
       "      <td>119900.0</td>\n",
       "      <td>Delhi</td>\n",
       "      <td>11000.0</td>\n",
       "      <td>First Owner</td>\n",
       "      <td>4.0</td>\n",
       "      <td>Royal Enfield</td>\n",
       "      <td>350.0</td>\n",
       "      <td>mid_range</td>\n",
       "    </tr>\n",
       "    <tr>\n",
       "      <th>3</th>\n",
       "      <td>TVS Apache RTR 180cc</td>\n",
       "      <td>65000.0</td>\n",
       "      <td>Bangalore</td>\n",
       "      <td>16329.0</td>\n",
       "      <td>First Owner</td>\n",
       "      <td>4.0</td>\n",
       "      <td>TVS</td>\n",
       "      <td>180.0</td>\n",
       "      <td>cheap</td>\n",
       "    </tr>\n",
       "    <tr>\n",
       "      <th>7</th>\n",
       "      <td>Hero Splendor Plus Self Alloy 100cc</td>\n",
       "      <td>45000.0</td>\n",
       "      <td>Delhi</td>\n",
       "      <td>12645.0</td>\n",
       "      <td>First Owner</td>\n",
       "      <td>3.0</td>\n",
       "      <td>Hero</td>\n",
       "      <td>100.0</td>\n",
       "      <td>cheap</td>\n",
       "    </tr>\n",
       "    <tr>\n",
       "      <th>8</th>\n",
       "      <td>Royal Enfield Thunderbird X 350cc</td>\n",
       "      <td>145000.0</td>\n",
       "      <td>Bangalore</td>\n",
       "      <td>9190.0</td>\n",
       "      <td>First Owner</td>\n",
       "      <td>3.0</td>\n",
       "      <td>Royal Enfield</td>\n",
       "      <td>350.0</td>\n",
       "      <td>mid_range</td>\n",
       "    </tr>\n",
       "  </tbody>\n",
       "</table>\n",
       "</div>"
      ],
      "text/plain": [
       "                             bike_name     price       city  kms_driven  \\\n",
       "0   TVS Star City Plus Dual Tone 110cc   35000.0  Ahmedabad     17654.0   \n",
       "1          Royal Enfield Classic 350cc  119900.0      Delhi     11000.0   \n",
       "3                 TVS Apache RTR 180cc   65000.0  Bangalore     16329.0   \n",
       "7  Hero Splendor Plus Self Alloy 100cc   45000.0      Delhi     12645.0   \n",
       "8    Royal Enfield Thunderbird X 350cc  145000.0  Bangalore      9190.0   \n",
       "\n",
       "         owner  age          brand     CC price range  \n",
       "0  First Owner  3.0            TVS  110.0       cheap  \n",
       "1  First Owner  4.0  Royal Enfield  350.0   mid_range  \n",
       "3  First Owner  4.0            TVS  180.0       cheap  \n",
       "7  First Owner  3.0           Hero  100.0       cheap  \n",
       "8  First Owner  3.0  Royal Enfield  350.0   mid_range  "
      ]
     },
     "execution_count": 120,
     "metadata": {},
     "output_type": "execute_result"
    }
   ],
   "source": [
    "domestic_brands.head()"
   ]
  },
  {
   "cell_type": "code",
   "execution_count": 121,
   "id": "20b8e7f0",
   "metadata": {},
   "outputs": [
    {
     "data": {
      "text/plain": [
       "50505.25199445023"
      ]
     },
     "execution_count": 121,
     "metadata": {},
     "output_type": "execute_result"
    }
   ],
   "source": [
    "domestic_brands[\"price\"].mean()"
   ]
  },
  {
   "cell_type": "code",
   "execution_count": 122,
   "id": "e5bfd9b2",
   "metadata": {},
   "outputs": [
    {
     "data": {
      "text/plain": [
       "111107.64430300501"
      ]
     },
     "execution_count": 122,
     "metadata": {},
     "output_type": "execute_result"
    }
   ],
   "source": [
    "foreign_brands[\"price\"].mean()"
   ]
  },
  {
   "cell_type": "code",
   "execution_count": 123,
   "id": "d5907525",
   "metadata": {},
   "outputs": [
    {
     "data": {
      "text/plain": [
       "<AxesSubplot:>"
      ]
     },
     "execution_count": 123,
     "metadata": {},
     "output_type": "execute_result"
    },
    {
     "data": {
      "image/png": "[encoded data removed]",
      "text/plain": [
       "<Figure size 1080x360 with 1 Axes>"
      ]
     },
     "metadata": {
      "needs_background": "light"
     },
     "output_type": "display_data"
    }
   ],
   "source": [
    "foreign_brands[\"price\"].plot.box()"
   ]
  },
  {
   "cell_type": "code",
   "execution_count": 124,
   "id": "04038c4e",
   "metadata": {},
   "outputs": [
    {
     "data": {
      "text/plain": [
       "<AxesSubplot:>"
      ]
     },
     "execution_count": 124,
     "metadata": {},
     "output_type": "execute_result"
    },
    {
     "data": {
      "image/png": "[encoded data removed]",
      "text/plain": [
       "<Figure size 1080x360 with 1 Axes>"
      ]
     },
     "metadata": {
      "needs_background": "light"
     },
     "output_type": "display_data"
    }
   ],
   "source": [
    "domestic_brands[\"price\"].plot.box()"
   ]
  },
  {
   "cell_type": "code",
   "execution_count": 126,
   "id": "a935a7fc",
   "metadata": {},
   "outputs": [
    {
     "data": {
      "text/plain": [
       "Yamaha             3916\n",
       "Honda              2108\n",
       "Suzuki             1464\n",
       "KTM                1077\n",
       "Harley-Davidson     737\n",
       "Kawasaki             79\n",
       "Hyosung              64\n",
       "Benelli              56\n",
       "Triumph              26\n",
       "Ducati               22\n",
       "BMW                  16\n",
       "Jawa                 10\n",
       "MV                    4\n",
       "Indian                3\n",
       "Ideal                 2\n",
       "Name: brand, dtype: int64"
      ]
     },
     "execution_count": 126,
     "metadata": {},
     "output_type": "execute_result"
    }
   ],
   "source": [
    "foreign_brands[\"brand\"].value_counts()"
   ]
  },
  {
   "cell_type": "code",
   "execution_count": 129,
   "id": "cf15a264",
   "metadata": {},
   "outputs": [
    {
     "data": {
      "text/plain": [
       "<AxesSubplot:>"
      ]
     },
     "execution_count": 129,
     "metadata": {},
     "output_type": "execute_result"
    },
    {
     "data": {
      "image/png": "[encoded data removed]",
      "text/plain": [
       "<Figure size 1080x360 with 1 Axes>"
      ]
     },
     "metadata": {
      "needs_background": "light"
     },
     "output_type": "display_data"
    }
   ],
   "source": [
    "foreign_brands[\"brand\"].value_counts().plot.bar()"
   ]
  }
 ],
 "metadata": {
  "kernelspec": {
   "display_name": "Python 3 (ipykernel)",
   "language": "python",
   "name": "python3"
  },
  "language_info": {
   "codemirror_mode": {
    "name": "ipython",
    "version": 3
   },
   "file_extension": ".py",
   "mimetype": "text/x-python",
   "name": "python",
   "nbconvert_exporter": "python",
   "pygments_lexer": "ipython3",
   "version": "3.9.7"
  }
 },
 "nbformat": 4,
 "nbformat_minor": 5
}
